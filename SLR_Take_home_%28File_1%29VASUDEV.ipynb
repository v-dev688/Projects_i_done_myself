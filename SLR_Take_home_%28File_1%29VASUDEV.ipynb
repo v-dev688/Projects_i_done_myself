{
  "cells": [
    {
      "cell_type": "markdown",
      "metadata": {
        "id": "SjF_IpwILy_d"
      },
      "source": [
        "<table align=\"center\" width=100%>\n",
        "    <tr>\n",
        "        <td width=\"20%\">\n",
        "            <img src=\"homework.png\">\n",
        "        </td>\n",
        "        <td>\n",
        "            <div align=\"center\">\n",
        "                <font color=\"#21618C\" size=6px>\n",
        "                    <b> Take-Home File 1<br>(Week 1 - Day 3)\n",
        "                    </b>\n",
        "                </font>\n",
        "            </div>\n",
        "        </td>\n",
        "        <td width=\"25%\">\n",
        "            <img src=\"GL-2.png\">\n",
        "        </td>\n",
        "    </tr>\n",
        "</table>"
      ]
    },
    {
      "cell_type": "markdown",
      "metadata": {
        "id": "7izMWCZ8Ly_m"
      },
      "source": [
        "### Import the required libraries"
      ]
    },
    {
      "cell_type": "code",
      "execution_count": 8,
      "metadata": {
        "id": "bQvY8TI3Ly_o"
      },
      "outputs": [],
      "source": [
        "import pandas as pd\n",
        "import numpy as np\n",
        "import seaborn as sns\n",
        "import matplotlib.pyplot as plt\n",
        "from scipy import stats\n",
        "import statsmodels.api as sm"
      ]
    },
    {
      "cell_type": "markdown",
      "metadata": {
        "id": "bROcOBNLLy_q"
      },
      "source": [
        "#### Read the data\n",
        "\n",
        "Load the csv file and set the first column as index"
      ]
    },
    {
      "cell_type": "code",
      "execution_count": 62,
      "metadata": {
        "id": "FT00E5AOLy_r",
        "colab": {
          "base_uri": "https://localhost:8080/",
          "height": 206
        },
        "outputId": "ad1f19ed-4d55-4632-ea33-0e2e30133f53"
      },
      "outputs": [
        {
          "output_type": "execute_result",
          "data": {
            "text/plain": [
              "  Car_Name  Year  Selling_Price  Present_Price  Kms_Driven Fuel_Type  \\\n",
              "0     ritz  2014           3.35           5.59       27000    Petrol   \n",
              "1      sx4  2013           4.75           9.54       43000    Diesel   \n",
              "2     ciaz  2017           7.25           9.85        6900    Petrol   \n",
              "3  wagon r  2011           2.85           4.15        5200    Petrol   \n",
              "4    swift  2014           4.60           6.87       42450    Diesel   \n",
              "\n",
              "  Seller_Type Transmission  Owner  \n",
              "0      Dealer       Manual      0  \n",
              "1      Dealer       Manual      0  \n",
              "2      Dealer       Manual      0  \n",
              "3      Dealer       Manual      0  \n",
              "4      Dealer       Manual      0  "
            ],
            "text/html": [
              "\n",
              "  <div id=\"df-c48ac210-497d-451a-aaaf-a0c0ee5da508\" class=\"colab-df-container\">\n",
              "    <div>\n",
              "<style scoped>\n",
              "    .dataframe tbody tr th:only-of-type {\n",
              "        vertical-align: middle;\n",
              "    }\n",
              "\n",
              "    .dataframe tbody tr th {\n",
              "        vertical-align: top;\n",
              "    }\n",
              "\n",
              "    .dataframe thead th {\n",
              "        text-align: right;\n",
              "    }\n",
              "</style>\n",
              "<table border=\"1\" class=\"dataframe\">\n",
              "  <thead>\n",
              "    <tr style=\"text-align: right;\">\n",
              "      <th></th>\n",
              "      <th>Car_Name</th>\n",
              "      <th>Year</th>\n",
              "      <th>Selling_Price</th>\n",
              "      <th>Present_Price</th>\n",
              "      <th>Kms_Driven</th>\n",
              "      <th>Fuel_Type</th>\n",
              "      <th>Seller_Type</th>\n",
              "      <th>Transmission</th>\n",
              "      <th>Owner</th>\n",
              "    </tr>\n",
              "  </thead>\n",
              "  <tbody>\n",
              "    <tr>\n",
              "      <th>0</th>\n",
              "      <td>ritz</td>\n",
              "      <td>2014</td>\n",
              "      <td>3.35</td>\n",
              "      <td>5.59</td>\n",
              "      <td>27000</td>\n",
              "      <td>Petrol</td>\n",
              "      <td>Dealer</td>\n",
              "      <td>Manual</td>\n",
              "      <td>0</td>\n",
              "    </tr>\n",
              "    <tr>\n",
              "      <th>1</th>\n",
              "      <td>sx4</td>\n",
              "      <td>2013</td>\n",
              "      <td>4.75</td>\n",
              "      <td>9.54</td>\n",
              "      <td>43000</td>\n",
              "      <td>Diesel</td>\n",
              "      <td>Dealer</td>\n",
              "      <td>Manual</td>\n",
              "      <td>0</td>\n",
              "    </tr>\n",
              "    <tr>\n",
              "      <th>2</th>\n",
              "      <td>ciaz</td>\n",
              "      <td>2017</td>\n",
              "      <td>7.25</td>\n",
              "      <td>9.85</td>\n",
              "      <td>6900</td>\n",
              "      <td>Petrol</td>\n",
              "      <td>Dealer</td>\n",
              "      <td>Manual</td>\n",
              "      <td>0</td>\n",
              "    </tr>\n",
              "    <tr>\n",
              "      <th>3</th>\n",
              "      <td>wagon r</td>\n",
              "      <td>2011</td>\n",
              "      <td>2.85</td>\n",
              "      <td>4.15</td>\n",
              "      <td>5200</td>\n",
              "      <td>Petrol</td>\n",
              "      <td>Dealer</td>\n",
              "      <td>Manual</td>\n",
              "      <td>0</td>\n",
              "    </tr>\n",
              "    <tr>\n",
              "      <th>4</th>\n",
              "      <td>swift</td>\n",
              "      <td>2014</td>\n",
              "      <td>4.60</td>\n",
              "      <td>6.87</td>\n",
              "      <td>42450</td>\n",
              "      <td>Diesel</td>\n",
              "      <td>Dealer</td>\n",
              "      <td>Manual</td>\n",
              "      <td>0</td>\n",
              "    </tr>\n",
              "  </tbody>\n",
              "</table>\n",
              "</div>\n",
              "    <div class=\"colab-df-buttons\">\n",
              "\n",
              "  <div class=\"colab-df-container\">\n",
              "    <button class=\"colab-df-convert\" onclick=\"convertToInteractive('df-c48ac210-497d-451a-aaaf-a0c0ee5da508')\"\n",
              "            title=\"Convert this dataframe to an interactive table.\"\n",
              "            style=\"display:none;\">\n",
              "\n",
              "  <svg xmlns=\"http://www.w3.org/2000/svg\" height=\"24px\" viewBox=\"0 -960 960 960\">\n",
              "    <path d=\"M120-120v-720h720v720H120Zm60-500h600v-160H180v160Zm220 220h160v-160H400v160Zm0 220h160v-160H400v160ZM180-400h160v-160H180v160Zm440 0h160v-160H620v160ZM180-180h160v-160H180v160Zm440 0h160v-160H620v160Z\"/>\n",
              "  </svg>\n",
              "    </button>\n",
              "\n",
              "  <style>\n",
              "    .colab-df-container {\n",
              "      display:flex;\n",
              "      gap: 12px;\n",
              "    }\n",
              "\n",
              "    .colab-df-convert {\n",
              "      background-color: #E8F0FE;\n",
              "      border: none;\n",
              "      border-radius: 50%;\n",
              "      cursor: pointer;\n",
              "      display: none;\n",
              "      fill: #1967D2;\n",
              "      height: 32px;\n",
              "      padding: 0 0 0 0;\n",
              "      width: 32px;\n",
              "    }\n",
              "\n",
              "    .colab-df-convert:hover {\n",
              "      background-color: #E2EBFA;\n",
              "      box-shadow: 0px 1px 2px rgba(60, 64, 67, 0.3), 0px 1px 3px 1px rgba(60, 64, 67, 0.15);\n",
              "      fill: #174EA6;\n",
              "    }\n",
              "\n",
              "    .colab-df-buttons div {\n",
              "      margin-bottom: 4px;\n",
              "    }\n",
              "\n",
              "    [theme=dark] .colab-df-convert {\n",
              "      background-color: #3B4455;\n",
              "      fill: #D2E3FC;\n",
              "    }\n",
              "\n",
              "    [theme=dark] .colab-df-convert:hover {\n",
              "      background-color: #434B5C;\n",
              "      box-shadow: 0px 1px 3px 1px rgba(0, 0, 0, 0.15);\n",
              "      filter: drop-shadow(0px 1px 2px rgba(0, 0, 0, 0.3));\n",
              "      fill: #FFFFFF;\n",
              "    }\n",
              "  </style>\n",
              "\n",
              "    <script>\n",
              "      const buttonEl =\n",
              "        document.querySelector('#df-c48ac210-497d-451a-aaaf-a0c0ee5da508 button.colab-df-convert');\n",
              "      buttonEl.style.display =\n",
              "        google.colab.kernel.accessAllowed ? 'block' : 'none';\n",
              "\n",
              "      async function convertToInteractive(key) {\n",
              "        const element = document.querySelector('#df-c48ac210-497d-451a-aaaf-a0c0ee5da508');\n",
              "        const dataTable =\n",
              "          await google.colab.kernel.invokeFunction('convertToInteractive',\n",
              "                                                    [key], {});\n",
              "        if (!dataTable) return;\n",
              "\n",
              "        const docLinkHtml = 'Like what you see? Visit the ' +\n",
              "          '<a target=\"_blank\" href=https://colab.research.google.com/notebooks/data_table.ipynb>data table notebook</a>'\n",
              "          + ' to learn more about interactive tables.';\n",
              "        element.innerHTML = '';\n",
              "        dataTable['output_type'] = 'display_data';\n",
              "        await google.colab.output.renderOutput(dataTable, element);\n",
              "        const docLink = document.createElement('div');\n",
              "        docLink.innerHTML = docLinkHtml;\n",
              "        element.appendChild(docLink);\n",
              "      }\n",
              "    </script>\n",
              "  </div>\n",
              "\n",
              "\n",
              "<div id=\"df-60d2cc8f-cf6c-42ee-8eb0-7a5705448a67\">\n",
              "  <button class=\"colab-df-quickchart\" onclick=\"quickchart('df-60d2cc8f-cf6c-42ee-8eb0-7a5705448a67')\"\n",
              "            title=\"Suggest charts\"\n",
              "            style=\"display:none;\">\n",
              "\n",
              "<svg xmlns=\"http://www.w3.org/2000/svg\" height=\"24px\"viewBox=\"0 0 24 24\"\n",
              "     width=\"24px\">\n",
              "    <g>\n",
              "        <path d=\"M19 3H5c-1.1 0-2 .9-2 2v14c0 1.1.9 2 2 2h14c1.1 0 2-.9 2-2V5c0-1.1-.9-2-2-2zM9 17H7v-7h2v7zm4 0h-2V7h2v10zm4 0h-2v-4h2v4z\"/>\n",
              "    </g>\n",
              "</svg>\n",
              "  </button>\n",
              "\n",
              "<style>\n",
              "  .colab-df-quickchart {\n",
              "      --bg-color: #E8F0FE;\n",
              "      --fill-color: #1967D2;\n",
              "      --hover-bg-color: #E2EBFA;\n",
              "      --hover-fill-color: #174EA6;\n",
              "      --disabled-fill-color: #AAA;\n",
              "      --disabled-bg-color: #DDD;\n",
              "  }\n",
              "\n",
              "  [theme=dark] .colab-df-quickchart {\n",
              "      --bg-color: #3B4455;\n",
              "      --fill-color: #D2E3FC;\n",
              "      --hover-bg-color: #434B5C;\n",
              "      --hover-fill-color: #FFFFFF;\n",
              "      --disabled-bg-color: #3B4455;\n",
              "      --disabled-fill-color: #666;\n",
              "  }\n",
              "\n",
              "  .colab-df-quickchart {\n",
              "    background-color: var(--bg-color);\n",
              "    border: none;\n",
              "    border-radius: 50%;\n",
              "    cursor: pointer;\n",
              "    display: none;\n",
              "    fill: var(--fill-color);\n",
              "    height: 32px;\n",
              "    padding: 0;\n",
              "    width: 32px;\n",
              "  }\n",
              "\n",
              "  .colab-df-quickchart:hover {\n",
              "    background-color: var(--hover-bg-color);\n",
              "    box-shadow: 0 1px 2px rgba(60, 64, 67, 0.3), 0 1px 3px 1px rgba(60, 64, 67, 0.15);\n",
              "    fill: var(--button-hover-fill-color);\n",
              "  }\n",
              "\n",
              "  .colab-df-quickchart-complete:disabled,\n",
              "  .colab-df-quickchart-complete:disabled:hover {\n",
              "    background-color: var(--disabled-bg-color);\n",
              "    fill: var(--disabled-fill-color);\n",
              "    box-shadow: none;\n",
              "  }\n",
              "\n",
              "  .colab-df-spinner {\n",
              "    border: 2px solid var(--fill-color);\n",
              "    border-color: transparent;\n",
              "    border-bottom-color: var(--fill-color);\n",
              "    animation:\n",
              "      spin 1s steps(1) infinite;\n",
              "  }\n",
              "\n",
              "  @keyframes spin {\n",
              "    0% {\n",
              "      border-color: transparent;\n",
              "      border-bottom-color: var(--fill-color);\n",
              "      border-left-color: var(--fill-color);\n",
              "    }\n",
              "    20% {\n",
              "      border-color: transparent;\n",
              "      border-left-color: var(--fill-color);\n",
              "      border-top-color: var(--fill-color);\n",
              "    }\n",
              "    30% {\n",
              "      border-color: transparent;\n",
              "      border-left-color: var(--fill-color);\n",
              "      border-top-color: var(--fill-color);\n",
              "      border-right-color: var(--fill-color);\n",
              "    }\n",
              "    40% {\n",
              "      border-color: transparent;\n",
              "      border-right-color: var(--fill-color);\n",
              "      border-top-color: var(--fill-color);\n",
              "    }\n",
              "    60% {\n",
              "      border-color: transparent;\n",
              "      border-right-color: var(--fill-color);\n",
              "    }\n",
              "    80% {\n",
              "      border-color: transparent;\n",
              "      border-right-color: var(--fill-color);\n",
              "      border-bottom-color: var(--fill-color);\n",
              "    }\n",
              "    90% {\n",
              "      border-color: transparent;\n",
              "      border-bottom-color: var(--fill-color);\n",
              "    }\n",
              "  }\n",
              "</style>\n",
              "\n",
              "  <script>\n",
              "    async function quickchart(key) {\n",
              "      const quickchartButtonEl =\n",
              "        document.querySelector('#' + key + ' button');\n",
              "      quickchartButtonEl.disabled = true;  // To prevent multiple clicks.\n",
              "      quickchartButtonEl.classList.add('colab-df-spinner');\n",
              "      try {\n",
              "        const charts = await google.colab.kernel.invokeFunction(\n",
              "            'suggestCharts', [key], {});\n",
              "      } catch (error) {\n",
              "        console.error('Error during call to suggestCharts:', error);\n",
              "      }\n",
              "      quickchartButtonEl.classList.remove('colab-df-spinner');\n",
              "      quickchartButtonEl.classList.add('colab-df-quickchart-complete');\n",
              "    }\n",
              "    (() => {\n",
              "      let quickchartButtonEl =\n",
              "        document.querySelector('#df-60d2cc8f-cf6c-42ee-8eb0-7a5705448a67 button');\n",
              "      quickchartButtonEl.style.display =\n",
              "        google.colab.kernel.accessAllowed ? 'block' : 'none';\n",
              "    })();\n",
              "  </script>\n",
              "</div>\n",
              "    </div>\n",
              "  </div>\n"
            ]
          },
          "metadata": {},
          "execution_count": 62
        }
      ],
      "source": [
        "df=pd.read_csv(\"/content/car_data.csv\")\n",
        "df.head()"
      ]
    },
    {
      "cell_type": "markdown",
      "metadata": {
        "id": "tSA5eYj-Ly_t"
      },
      "source": [
        "**The data definition is as follows:** <br><br>\n",
        "**Car_Name:** name of the car <br>\n",
        "\n",
        "**YearThis:** year in which the car was bought <br>\n",
        "\n",
        "**Present_Price:** current ex-showroom price of the car (in lakhs)<br>\n",
        "\n",
        "**Kms_Driven:** distance completed by the car in km <br>\n",
        "\n",
        "**Fuel_Type:** fuel type of the car <br>\n",
        "\n",
        "**Seller_Type:** defines whether the seller is a dealer or an individual<br>\n",
        "\n",
        "**Transmission:** defines whether the car is manual or automatic <br>\n",
        "\n",
        "**Owner:** defines the number of owners the car has previously had <br>\n",
        "\n",
        "**Selling_Price:** price the owner wants to sell the car at (in lakhs) (response variable)"
      ]
    },
    {
      "cell_type": "markdown",
      "source": [
        "#<b> EDA STEPS (OPTIONAL)"
      ],
      "metadata": {
        "id": "s9XWzgRGx3Z7"
      }
    },
    {
      "cell_type": "code",
      "source": [
        "df.dtypes"
      ],
      "metadata": {
        "colab": {
          "base_uri": "https://localhost:8080/"
        },
        "id": "uyUMX094yyn4",
        "outputId": "adcee1bc-ed09-4eee-b2f6-8af512da2c47"
      },
      "execution_count": 4,
      "outputs": [
        {
          "output_type": "execute_result",
          "data": {
            "text/plain": [
              "Car_Name          object\n",
              "Year               int64\n",
              "Selling_Price    float64\n",
              "Present_Price    float64\n",
              "Kms_Driven         int64\n",
              "Fuel_Type         object\n",
              "Seller_Type       object\n",
              "Transmission      object\n",
              "Owner              int64\n",
              "dtype: object"
            ]
          },
          "metadata": {},
          "execution_count": 4
        }
      ]
    },
    {
      "cell_type": "markdown",
      "source": [
        "#<i>1 ENCODING"
      ],
      "metadata": {
        "id": "x35kACmq8AFE"
      }
    },
    {
      "cell_type": "code",
      "source": [
        "# Categorical Variables:\n",
        "\n",
        "from sklearn.preprocessing import LabelEncoder\n",
        "label_encoder = LabelEncoder()\n",
        "df[\"Fuel_Type\"] = label_encoder.fit_transform(df[\"Fuel_Type\"])\n",
        "df[\"Seller_Type\"] = label_encoder.fit_transform(df[\"Seller_Type\"])\n",
        "df[\"Transmission\"] = label_encoder.fit_transform(df[\"Transmission\"])\n",
        "df[\"Car_Name\"] = label_encoder.fit_transform(df[\"Car_Name\"])\n",
        "# year encoding is optional"
      ],
      "metadata": {
        "id": "XUJbWJKFx7z1"
      },
      "execution_count": 5,
      "outputs": []
    },
    {
      "cell_type": "code",
      "source": [
        "# Handle Missing Data:\n",
        "\n",
        "df.isnull().sum()"
      ],
      "metadata": {
        "colab": {
          "base_uri": "https://localhost:8080/"
        },
        "id": "K5n-Lwa4zJnf",
        "outputId": "38f3e78f-b4f5-4fb6-c51e-258f4db6b82a"
      },
      "execution_count": 6,
      "outputs": [
        {
          "output_type": "execute_result",
          "data": {
            "text/plain": [
              "Car_Name         0\n",
              "Year             0\n",
              "Selling_Price    0\n",
              "Present_Price    0\n",
              "Kms_Driven       0\n",
              "Fuel_Type        0\n",
              "Seller_Type      0\n",
              "Transmission     0\n",
              "Owner            0\n",
              "dtype: int64"
            ]
          },
          "metadata": {},
          "execution_count": 6
        }
      ]
    },
    {
      "cell_type": "markdown",
      "source": [
        "<b>HANDLING OUTLIERS"
      ],
      "metadata": {
        "id": "xCDF9sHi5ef9"
      }
    },
    {
      "cell_type": "markdown",
      "source": [
        "#<i>2. SCALING"
      ],
      "metadata": {
        "id": "ari7vVS58Ldj"
      }
    },
    {
      "cell_type": "code",
      "source": [
        "# standard scaling\n",
        "from sklearn.preprocessing import StandardScaler\n",
        "scaler = StandardScaler()\n",
        "scaled_data = scaler.fit_transform(df)\n",
        "df_scaled = pd.DataFrame(scaled_data, columns=df.columns)\n",
        "df_scaled.head()"
      ],
      "metadata": {
        "colab": {
          "base_uri": "https://localhost:8080/",
          "height": 206
        },
        "id": "Ng91X6SC5it9",
        "outputId": "f6aba9b6-c875-49e0-83d2-eae32c75d876"
      },
      "execution_count": 20,
      "outputs": [
        {
          "output_type": "execute_result",
          "data": {
            "text/plain": [
              "   Car_Name      Year  Selling_Price  Present_Price  Kms_Driven  Fuel_Type  \\\n",
              "0  1.074323  0.128897      -0.258416      -0.236215   -0.256224   0.500183   \n",
              "1  1.191828 -0.217514       0.017481       0.221505    0.155911  -1.852241   \n",
              "2  0.212627  1.168129       0.510154       0.257427   -0.773969   0.500183   \n",
              "3  1.309332 -0.910335      -0.356950      -0.403079   -0.817758   0.500183   \n",
              "4  1.152659  0.128897      -0.012079      -0.087890    0.141743  -1.852241   \n",
              "\n",
              "   Seller_Type  Transmission     Owner  \n",
              "0    -0.737285       0.39148 -0.174501  \n",
              "1    -0.737285       0.39148 -0.174501  \n",
              "2    -0.737285       0.39148 -0.174501  \n",
              "3    -0.737285       0.39148 -0.174501  \n",
              "4    -0.737285       0.39148 -0.174501  "
            ],
            "text/html": [
              "\n",
              "  <div id=\"df-0e0085d6-4e10-4025-880d-7bc2a3fd04e6\" class=\"colab-df-container\">\n",
              "    <div>\n",
              "<style scoped>\n",
              "    .dataframe tbody tr th:only-of-type {\n",
              "        vertical-align: middle;\n",
              "    }\n",
              "\n",
              "    .dataframe tbody tr th {\n",
              "        vertical-align: top;\n",
              "    }\n",
              "\n",
              "    .dataframe thead th {\n",
              "        text-align: right;\n",
              "    }\n",
              "</style>\n",
              "<table border=\"1\" class=\"dataframe\">\n",
              "  <thead>\n",
              "    <tr style=\"text-align: right;\">\n",
              "      <th></th>\n",
              "      <th>Car_Name</th>\n",
              "      <th>Year</th>\n",
              "      <th>Selling_Price</th>\n",
              "      <th>Present_Price</th>\n",
              "      <th>Kms_Driven</th>\n",
              "      <th>Fuel_Type</th>\n",
              "      <th>Seller_Type</th>\n",
              "      <th>Transmission</th>\n",
              "      <th>Owner</th>\n",
              "    </tr>\n",
              "  </thead>\n",
              "  <tbody>\n",
              "    <tr>\n",
              "      <th>0</th>\n",
              "      <td>1.074323</td>\n",
              "      <td>0.128897</td>\n",
              "      <td>-0.258416</td>\n",
              "      <td>-0.236215</td>\n",
              "      <td>-0.256224</td>\n",
              "      <td>0.500183</td>\n",
              "      <td>-0.737285</td>\n",
              "      <td>0.39148</td>\n",
              "      <td>-0.174501</td>\n",
              "    </tr>\n",
              "    <tr>\n",
              "      <th>1</th>\n",
              "      <td>1.191828</td>\n",
              "      <td>-0.217514</td>\n",
              "      <td>0.017481</td>\n",
              "      <td>0.221505</td>\n",
              "      <td>0.155911</td>\n",
              "      <td>-1.852241</td>\n",
              "      <td>-0.737285</td>\n",
              "      <td>0.39148</td>\n",
              "      <td>-0.174501</td>\n",
              "    </tr>\n",
              "    <tr>\n",
              "      <th>2</th>\n",
              "      <td>0.212627</td>\n",
              "      <td>1.168129</td>\n",
              "      <td>0.510154</td>\n",
              "      <td>0.257427</td>\n",
              "      <td>-0.773969</td>\n",
              "      <td>0.500183</td>\n",
              "      <td>-0.737285</td>\n",
              "      <td>0.39148</td>\n",
              "      <td>-0.174501</td>\n",
              "    </tr>\n",
              "    <tr>\n",
              "      <th>3</th>\n",
              "      <td>1.309332</td>\n",
              "      <td>-0.910335</td>\n",
              "      <td>-0.356950</td>\n",
              "      <td>-0.403079</td>\n",
              "      <td>-0.817758</td>\n",
              "      <td>0.500183</td>\n",
              "      <td>-0.737285</td>\n",
              "      <td>0.39148</td>\n",
              "      <td>-0.174501</td>\n",
              "    </tr>\n",
              "    <tr>\n",
              "      <th>4</th>\n",
              "      <td>1.152659</td>\n",
              "      <td>0.128897</td>\n",
              "      <td>-0.012079</td>\n",
              "      <td>-0.087890</td>\n",
              "      <td>0.141743</td>\n",
              "      <td>-1.852241</td>\n",
              "      <td>-0.737285</td>\n",
              "      <td>0.39148</td>\n",
              "      <td>-0.174501</td>\n",
              "    </tr>\n",
              "  </tbody>\n",
              "</table>\n",
              "</div>\n",
              "    <div class=\"colab-df-buttons\">\n",
              "\n",
              "  <div class=\"colab-df-container\">\n",
              "    <button class=\"colab-df-convert\" onclick=\"convertToInteractive('df-0e0085d6-4e10-4025-880d-7bc2a3fd04e6')\"\n",
              "            title=\"Convert this dataframe to an interactive table.\"\n",
              "            style=\"display:none;\">\n",
              "\n",
              "  <svg xmlns=\"http://www.w3.org/2000/svg\" height=\"24px\" viewBox=\"0 -960 960 960\">\n",
              "    <path d=\"M120-120v-720h720v720H120Zm60-500h600v-160H180v160Zm220 220h160v-160H400v160Zm0 220h160v-160H400v160ZM180-400h160v-160H180v160Zm440 0h160v-160H620v160ZM180-180h160v-160H180v160Zm440 0h160v-160H620v160Z\"/>\n",
              "  </svg>\n",
              "    </button>\n",
              "\n",
              "  <style>\n",
              "    .colab-df-container {\n",
              "      display:flex;\n",
              "      gap: 12px;\n",
              "    }\n",
              "\n",
              "    .colab-df-convert {\n",
              "      background-color: #E8F0FE;\n",
              "      border: none;\n",
              "      border-radius: 50%;\n",
              "      cursor: pointer;\n",
              "      display: none;\n",
              "      fill: #1967D2;\n",
              "      height: 32px;\n",
              "      padding: 0 0 0 0;\n",
              "      width: 32px;\n",
              "    }\n",
              "\n",
              "    .colab-df-convert:hover {\n",
              "      background-color: #E2EBFA;\n",
              "      box-shadow: 0px 1px 2px rgba(60, 64, 67, 0.3), 0px 1px 3px 1px rgba(60, 64, 67, 0.15);\n",
              "      fill: #174EA6;\n",
              "    }\n",
              "\n",
              "    .colab-df-buttons div {\n",
              "      margin-bottom: 4px;\n",
              "    }\n",
              "\n",
              "    [theme=dark] .colab-df-convert {\n",
              "      background-color: #3B4455;\n",
              "      fill: #D2E3FC;\n",
              "    }\n",
              "\n",
              "    [theme=dark] .colab-df-convert:hover {\n",
              "      background-color: #434B5C;\n",
              "      box-shadow: 0px 1px 3px 1px rgba(0, 0, 0, 0.15);\n",
              "      filter: drop-shadow(0px 1px 2px rgba(0, 0, 0, 0.3));\n",
              "      fill: #FFFFFF;\n",
              "    }\n",
              "  </style>\n",
              "\n",
              "    <script>\n",
              "      const buttonEl =\n",
              "        document.querySelector('#df-0e0085d6-4e10-4025-880d-7bc2a3fd04e6 button.colab-df-convert');\n",
              "      buttonEl.style.display =\n",
              "        google.colab.kernel.accessAllowed ? 'block' : 'none';\n",
              "\n",
              "      async function convertToInteractive(key) {\n",
              "        const element = document.querySelector('#df-0e0085d6-4e10-4025-880d-7bc2a3fd04e6');\n",
              "        const dataTable =\n",
              "          await google.colab.kernel.invokeFunction('convertToInteractive',\n",
              "                                                    [key], {});\n",
              "        if (!dataTable) return;\n",
              "\n",
              "        const docLinkHtml = 'Like what you see? Visit the ' +\n",
              "          '<a target=\"_blank\" href=https://colab.research.google.com/notebooks/data_table.ipynb>data table notebook</a>'\n",
              "          + ' to learn more about interactive tables.';\n",
              "        element.innerHTML = '';\n",
              "        dataTable['output_type'] = 'display_data';\n",
              "        await google.colab.output.renderOutput(dataTable, element);\n",
              "        const docLink = document.createElement('div');\n",
              "        docLink.innerHTML = docLinkHtml;\n",
              "        element.appendChild(docLink);\n",
              "      }\n",
              "    </script>\n",
              "  </div>\n",
              "\n",
              "\n",
              "<div id=\"df-561a7f4f-986a-4028-b7fa-c711c0757ee0\">\n",
              "  <button class=\"colab-df-quickchart\" onclick=\"quickchart('df-561a7f4f-986a-4028-b7fa-c711c0757ee0')\"\n",
              "            title=\"Suggest charts\"\n",
              "            style=\"display:none;\">\n",
              "\n",
              "<svg xmlns=\"http://www.w3.org/2000/svg\" height=\"24px\"viewBox=\"0 0 24 24\"\n",
              "     width=\"24px\">\n",
              "    <g>\n",
              "        <path d=\"M19 3H5c-1.1 0-2 .9-2 2v14c0 1.1.9 2 2 2h14c1.1 0 2-.9 2-2V5c0-1.1-.9-2-2-2zM9 17H7v-7h2v7zm4 0h-2V7h2v10zm4 0h-2v-4h2v4z\"/>\n",
              "    </g>\n",
              "</svg>\n",
              "  </button>\n",
              "\n",
              "<style>\n",
              "  .colab-df-quickchart {\n",
              "      --bg-color: #E8F0FE;\n",
              "      --fill-color: #1967D2;\n",
              "      --hover-bg-color: #E2EBFA;\n",
              "      --hover-fill-color: #174EA6;\n",
              "      --disabled-fill-color: #AAA;\n",
              "      --disabled-bg-color: #DDD;\n",
              "  }\n",
              "\n",
              "  [theme=dark] .colab-df-quickchart {\n",
              "      --bg-color: #3B4455;\n",
              "      --fill-color: #D2E3FC;\n",
              "      --hover-bg-color: #434B5C;\n",
              "      --hover-fill-color: #FFFFFF;\n",
              "      --disabled-bg-color: #3B4455;\n",
              "      --disabled-fill-color: #666;\n",
              "  }\n",
              "\n",
              "  .colab-df-quickchart {\n",
              "    background-color: var(--bg-color);\n",
              "    border: none;\n",
              "    border-radius: 50%;\n",
              "    cursor: pointer;\n",
              "    display: none;\n",
              "    fill: var(--fill-color);\n",
              "    height: 32px;\n",
              "    padding: 0;\n",
              "    width: 32px;\n",
              "  }\n",
              "\n",
              "  .colab-df-quickchart:hover {\n",
              "    background-color: var(--hover-bg-color);\n",
              "    box-shadow: 0 1px 2px rgba(60, 64, 67, 0.3), 0 1px 3px 1px rgba(60, 64, 67, 0.15);\n",
              "    fill: var(--button-hover-fill-color);\n",
              "  }\n",
              "\n",
              "  .colab-df-quickchart-complete:disabled,\n",
              "  .colab-df-quickchart-complete:disabled:hover {\n",
              "    background-color: var(--disabled-bg-color);\n",
              "    fill: var(--disabled-fill-color);\n",
              "    box-shadow: none;\n",
              "  }\n",
              "\n",
              "  .colab-df-spinner {\n",
              "    border: 2px solid var(--fill-color);\n",
              "    border-color: transparent;\n",
              "    border-bottom-color: var(--fill-color);\n",
              "    animation:\n",
              "      spin 1s steps(1) infinite;\n",
              "  }\n",
              "\n",
              "  @keyframes spin {\n",
              "    0% {\n",
              "      border-color: transparent;\n",
              "      border-bottom-color: var(--fill-color);\n",
              "      border-left-color: var(--fill-color);\n",
              "    }\n",
              "    20% {\n",
              "      border-color: transparent;\n",
              "      border-left-color: var(--fill-color);\n",
              "      border-top-color: var(--fill-color);\n",
              "    }\n",
              "    30% {\n",
              "      border-color: transparent;\n",
              "      border-left-color: var(--fill-color);\n",
              "      border-top-color: var(--fill-color);\n",
              "      border-right-color: var(--fill-color);\n",
              "    }\n",
              "    40% {\n",
              "      border-color: transparent;\n",
              "      border-right-color: var(--fill-color);\n",
              "      border-top-color: var(--fill-color);\n",
              "    }\n",
              "    60% {\n",
              "      border-color: transparent;\n",
              "      border-right-color: var(--fill-color);\n",
              "    }\n",
              "    80% {\n",
              "      border-color: transparent;\n",
              "      border-right-color: var(--fill-color);\n",
              "      border-bottom-color: var(--fill-color);\n",
              "    }\n",
              "    90% {\n",
              "      border-color: transparent;\n",
              "      border-bottom-color: var(--fill-color);\n",
              "    }\n",
              "  }\n",
              "</style>\n",
              "\n",
              "  <script>\n",
              "    async function quickchart(key) {\n",
              "      const quickchartButtonEl =\n",
              "        document.querySelector('#' + key + ' button');\n",
              "      quickchartButtonEl.disabled = true;  // To prevent multiple clicks.\n",
              "      quickchartButtonEl.classList.add('colab-df-spinner');\n",
              "      try {\n",
              "        const charts = await google.colab.kernel.invokeFunction(\n",
              "            'suggestCharts', [key], {});\n",
              "      } catch (error) {\n",
              "        console.error('Error during call to suggestCharts:', error);\n",
              "      }\n",
              "      quickchartButtonEl.classList.remove('colab-df-spinner');\n",
              "      quickchartButtonEl.classList.add('colab-df-quickchart-complete');\n",
              "    }\n",
              "    (() => {\n",
              "      let quickchartButtonEl =\n",
              "        document.querySelector('#df-561a7f4f-986a-4028-b7fa-c711c0757ee0 button');\n",
              "      quickchartButtonEl.style.display =\n",
              "        google.colab.kernel.accessAllowed ? 'block' : 'none';\n",
              "    })();\n",
              "  </script>\n",
              "</div>\n",
              "    </div>\n",
              "  </div>\n"
            ]
          },
          "metadata": {},
          "execution_count": 20
        }
      ]
    },
    {
      "cell_type": "markdown",
      "source": [
        "#<i>3 OUTLIER HANDLING"
      ],
      "metadata": {
        "id": "X4O8CCWH8c1C"
      }
    },
    {
      "cell_type": "code",
      "source": [
        "sns.histplot(df[\"Kms_Driven\"], bins=20, kde=True)\n",
        "plt.title(\"Histogram for Outlier Detection : Kms_driven\")\n",
        "plt.show()"
      ],
      "metadata": {
        "colab": {
          "base_uri": "https://localhost:8080/",
          "height": 480
        },
        "id": "vPKNbervzGyT",
        "outputId": "159ea25d-93ab-4bda-cfd5-2307520d79ba"
      },
      "execution_count": 22,
      "outputs": [
        {
          "output_type": "display_data",
          "data": {
            "text/plain": [
              "<Figure size 640x480 with 1 Axes>"
            ],
            "image/png": "[encoded data removed]"
          },
          "metadata": {}
        }
      ]
    },
    {
      "cell_type": "code",
      "source": [
        "sns.histplot(df[\"Selling_Price\"], bins=20, kde=True)\n",
        "plt.title(\"Histogram for Outlier Detection : Selling_Price\")\n",
        "plt.show()"
      ],
      "metadata": {
        "colab": {
          "base_uri": "https://localhost:8080/",
          "height": 480
        },
        "id": "tn8EwqLI2nde",
        "outputId": "6bd9e937-1371-46ee-df65-b403ea3c6d10"
      },
      "execution_count": 17,
      "outputs": [
        {
          "output_type": "display_data",
          "data": {
            "text/plain": [
              "<Figure size 640x480 with 1 Axes>"
            ],
            "image/png": "[encoded data removed]"
          },
          "metadata": {}
        }
      ]
    },
    {
      "cell_type": "code",
      "source": [
        "sns.histplot(df['Present_Price'], bins=20, kde=True)\n",
        "plt.title(\"Histogram for Outlier Detection : Selling_Price\")\n",
        "plt.show()"
      ],
      "metadata": {
        "colab": {
          "base_uri": "https://localhost:8080/",
          "height": 480
        },
        "id": "2-5QD-Cs8vmK",
        "outputId": "aa1d14dd-eb35-468a-a264-24bd35675654"
      },
      "execution_count": 26,
      "outputs": [
        {
          "output_type": "display_data",
          "data": {
            "text/plain": [
              "<Figure size 640x480 with 1 Axes>"
            ],
            "image/png": "[encoded data removed]"
          },
          "metadata": {}
        }
      ]
    },
    {
      "cell_type": "markdown",
      "metadata": {
        "id": "WXmNu0_bLy_s"
      },
      "source": [
        "Our objective is to predict the selling price of the cars data."
      ]
    },
    {
      "cell_type": "code",
      "source": [
        "q1 = np.percentile(df_scaled[\"Kms_Driven\"], 25)\n",
        "q3 = np.percentile(df_scaled[\"Kms_Driven\"], 75)\n",
        "df_filtered = df_scaled[(df_scaled[\"Kms_Driven\"] >= q1) & (df_scaled[\"Kms_Driven\"] <= q3)]\n",
        "\n",
        "sns.histplot(df_filtered[\"Kms_Driven\"], bins=20, kde=True,color='orange')\n",
        "plt.title(\"Histogram after outlier removal : Kms_driven\")\n",
        "plt.show()"
      ],
      "metadata": {
        "colab": {
          "base_uri": "https://localhost:8080/",
          "height": 480
        },
        "id": "uqnAp1ry2x0T",
        "outputId": "9cf9ff66-edd6-479b-9988-07adf00f639e"
      },
      "execution_count": 32,
      "outputs": [
        {
          "output_type": "display_data",
          "data": {
            "text/plain": [
              "<Figure size 640x480 with 1 Axes>"
            ],
            "image/png": "[encoded data removed]"
          },
          "metadata": {}
        }
      ]
    },
    {
      "cell_type": "code",
      "source": [
        "q1 = np.percentile(df_scaled[\"Selling_Price\"], 25)\n",
        "q3 = np.percentile(df_scaled[\"Selling_Price\"], 75)\n",
        "df_filtered = df_scaled[(df_scaled[\"Selling_Price\"] >= q1) & (df_scaled[\"Selling_Price\"] <= q3)]\n",
        "\n",
        "sns.histplot(df_filtered[\"Selling_Price\"], bins=20, kde=True,color='orange')\n",
        "plt.title(\"Histogram after outlier removal : Selling_Price\")\n",
        "plt.show()"
      ],
      "metadata": {
        "colab": {
          "base_uri": "https://localhost:8080/",
          "height": 480
        },
        "id": "PZiQLWVN8keG",
        "outputId": "78bc8813-ea44-49d1-8882-5978855ae589"
      },
      "execution_count": 33,
      "outputs": [
        {
          "output_type": "display_data",
          "data": {
            "text/plain": [
              "<Figure size 640x480 with 1 Axes>"
            ],
            "image/png": "[encoded data removed]"
          },
          "metadata": {}
        }
      ]
    },
    {
      "cell_type": "code",
      "source": [
        "q1 = np.percentile(df_scaled[\"Present_Price\"], 25)\n",
        "q3 = np.percentile(df_scaled[\"Present_Price\"], 75)\n",
        "df_filtered = df_scaled[(df_scaled[\"Present_Price\"] >= q1) & (df_scaled[\"Present_Price\"] <= q3)]\n",
        "\n",
        "sns.histplot(df_filtered[\"Present_Price\"], bins=20, kde=True,color='orange')\n",
        "plt.title(\"Histogram after outlier removal : : Present_Price\")\n",
        "plt.show()"
      ],
      "metadata": {
        "colab": {
          "base_uri": "https://localhost:8080/",
          "height": 480
        },
        "id": "JF-VE8zS9Nts",
        "outputId": "e9f66fd5-7572-4de9-c16d-d3ab411abba2"
      },
      "execution_count": 34,
      "outputs": [
        {
          "output_type": "display_data",
          "data": {
            "text/plain": [
              "<Figure size 640x480 with 1 Axes>"
            ],
            "image/png": "[encoded data removed]"
          },
          "metadata": {}
        }
      ]
    },
    {
      "cell_type": "markdown",
      "source": [
        "#<b>INCLASS"
      ],
      "metadata": {
        "id": "eA0i30px-feo"
      }
    },
    {
      "cell_type": "code",
      "source": [],
      "metadata": {
        "id": "1RuILB08-SFW"
      },
      "execution_count": null,
      "outputs": []
    },
    {
      "cell_type": "markdown",
      "metadata": {
        "id": "2CohhqNxLy_x"
      },
      "source": [
        "### Let's begin with some hands-on practice exercises"
      ]
    },
    {
      "cell_type": "markdown",
      "metadata": {
        "id": "zJa2PL_KLy_1"
      },
      "source": [
        "<table align=\"left\">\n",
        "    <tr>\n",
        "        <td width=\"6%\">\n",
        "            <img src=\"question_icon.png\">\n",
        "        </td>\n",
        "        <td>\n",
        "            <div align=\"left\", style=\"font-size:120%\">\n",
        "                <font color=\"#21618C\">\n",
        "                    <b>1. Build a full model and interpret the beta coefficients </b>\n",
        "                </font>\n",
        "            </div>\n",
        "        </td>\n",
        "    </tr>\n",
        "</table>"
      ]
    },
    {
      "cell_type": "markdown",
      "metadata": {
        "id": "1Ttmu9n5Ly_3"
      },
      "source": [
        "        Hint: A full model is a model which includes all the features"
      ]
    },
    {
      "cell_type": "code",
      "source": [
        "df=df_filtered"
      ],
      "metadata": {
        "id": "_wabx6Vh-6SJ"
      },
      "execution_count": 54,
      "outputs": []
    },
    {
      "cell_type": "code",
      "source": [
        "\n",
        "# HERE I TOOK target as Selling Price and Remaining as X\n",
        "\n",
        "x=df_filtered.drop(\"Selling_Price\",axis=1)\n",
        "y=df_filtered['Selling_Price']\n",
        "x_c=sm.add_constant(x)\n",
        "ols_model=sm.OLS(y,x_c).fit()\n",
        "ols_model.summary()"
      ],
      "metadata": {
        "colab": {
          "base_uri": "https://localhost:8080/",
          "height": 577
        },
        "id": "lCKMS4Ar9jzt",
        "outputId": "62a5b0ba-6ba0-41ef-a1b8-e65f5b1eedf7"
      },
      "execution_count": 78,
      "outputs": [
        {
          "output_type": "execute_result",
          "data": {
            "text/plain": [
              "<class 'statsmodels.iolib.summary.Summary'>\n",
              "\"\"\"\n",
              "                            OLS Regression Results                            \n",
              "==============================================================================\n",
              "Dep. Variable:          Selling_Price   R-squared:                       0.863\n",
              "Model:                            OLS   Adj. R-squared:                  0.856\n",
              "Method:                 Least Squares   F-statistic:                     115.0\n",
              "Date:                Sun, 26 Nov 2023   Prob (F-statistic):           4.30e-59\n",
              "Time:                        10:21:25   Log-Likelihood:                 74.123\n",
              "No. Observations:                 155   AIC:                            -130.2\n",
              "Df Residuals:                     146   BIC:                            -102.9\n",
              "Df Model:                           8                                         \n",
              "Covariance Type:            nonrobust                                         \n",
              "=================================================================================\n",
              "                    coef    std err          t      P>|t|      [0.025      0.975]\n",
              "---------------------------------------------------------------------------------\n",
              "const             0.0415      0.025      1.636      0.104      -0.009       0.092\n",
              "Car_Name         -0.0045      0.028     -0.158      0.875      -0.061       0.052\n",
              "Year              0.1673      0.019      8.698      0.000       0.129       0.205\n",
              "Present_Price     1.0592      0.070     15.099      0.000       0.921       1.198\n",
              "Kms_Driven       -0.0609      0.035     -1.757      0.081      -0.129       0.008\n",
              "Fuel_Type        -0.0180      0.014     -1.273      0.205      -0.046       0.010\n",
              "Seller_Type      -0.0337      0.028     -1.191      0.236      -0.090       0.022\n",
              "Transmission     -0.0288      0.019     -1.533      0.127      -0.066       0.008\n",
              "Owner            -0.0094      0.017     -0.539      0.591      -0.044       0.025\n",
              "==============================================================================\n",
              "Omnibus:                       16.250   Durbin-Watson:                   1.746\n",
              "Prob(Omnibus):                  0.000   Jarque-Bera (JB):               19.430\n",
              "Skew:                           0.687   Prob(JB):                     6.04e-05\n",
              "Kurtosis:                       4.058   Cond. No.                         8.18\n",
              "==============================================================================\n",
              "\n",
              "Notes:\n",
              "[1] Standard Errors assume that the covariance matrix of the errors is correctly specified.\n",
              "\"\"\""
            ],
            "text/html": [
              "<table class=\"simpletable\">\n",
              "<caption>OLS Regression Results</caption>\n",
              "<tr>\n",
              "  <th>Dep. Variable:</th>      <td>Selling_Price</td>  <th>  R-squared:         </th> <td>   0.863</td>\n",
              "</tr>\n",
              "<tr>\n",
              "  <th>Model:</th>                   <td>OLS</td>       <th>  Adj. R-squared:    </th> <td>   0.856</td>\n",
              "</tr>\n",
              "<tr>\n",
              "  <th>Method:</th>             <td>Least Squares</td>  <th>  F-statistic:       </th> <td>   115.0</td>\n",
              "</tr>\n",
              "<tr>\n",
              "  <th>Date:</th>             <td>Sun, 26 Nov 2023</td> <th>  Prob (F-statistic):</th> <td>4.30e-59</td>\n",
              "</tr>\n",
              "<tr>\n",
              "  <th>Time:</th>                 <td>10:21:25</td>     <th>  Log-Likelihood:    </th> <td>  74.123</td>\n",
              "</tr>\n",
              "<tr>\n",
              "  <th>No. Observations:</th>      <td>   155</td>      <th>  AIC:               </th> <td>  -130.2</td>\n",
              "</tr>\n",
              "<tr>\n",
              "  <th>Df Residuals:</th>          <td>   146</td>      <th>  BIC:               </th> <td>  -102.9</td>\n",
              "</tr>\n",
              "<tr>\n",
              "  <th>Df Model:</th>              <td>     8</td>      <th>                     </th>     <td> </td>   \n",
              "</tr>\n",
              "<tr>\n",
              "  <th>Covariance Type:</th>      <td>nonrobust</td>    <th>                     </th>     <td> </td>   \n",
              "</tr>\n",
              "</table>\n",
              "<table class=\"simpletable\">\n",
              "<tr>\n",
              "        <td></td>           <th>coef</th>     <th>std err</th>      <th>t</th>      <th>P>|t|</th>  <th>[0.025</th>    <th>0.975]</th>  \n",
              "</tr>\n",
              "<tr>\n",
              "  <th>const</th>         <td>    0.0415</td> <td>    0.025</td> <td>    1.636</td> <td> 0.104</td> <td>   -0.009</td> <td>    0.092</td>\n",
              "</tr>\n",
              "<tr>\n",
              "  <th>Car_Name</th>      <td>   -0.0045</td> <td>    0.028</td> <td>   -0.158</td> <td> 0.875</td> <td>   -0.061</td> <td>    0.052</td>\n",
              "</tr>\n",
              "<tr>\n",
              "  <th>Year</th>          <td>    0.1673</td> <td>    0.019</td> <td>    8.698</td> <td> 0.000</td> <td>    0.129</td> <td>    0.205</td>\n",
              "</tr>\n",
              "<tr>\n",
              "  <th>Present_Price</th> <td>    1.0592</td> <td>    0.070</td> <td>   15.099</td> <td> 0.000</td> <td>    0.921</td> <td>    1.198</td>\n",
              "</tr>\n",
              "<tr>\n",
              "  <th>Kms_Driven</th>    <td>   -0.0609</td> <td>    0.035</td> <td>   -1.757</td> <td> 0.081</td> <td>   -0.129</td> <td>    0.008</td>\n",
              "</tr>\n",
              "<tr>\n",
              "  <th>Fuel_Type</th>     <td>   -0.0180</td> <td>    0.014</td> <td>   -1.273</td> <td> 0.205</td> <td>   -0.046</td> <td>    0.010</td>\n",
              "</tr>\n",
              "<tr>\n",
              "  <th>Seller_Type</th>   <td>   -0.0337</td> <td>    0.028</td> <td>   -1.191</td> <td> 0.236</td> <td>   -0.090</td> <td>    0.022</td>\n",
              "</tr>\n",
              "<tr>\n",
              "  <th>Transmission</th>  <td>   -0.0288</td> <td>    0.019</td> <td>   -1.533</td> <td> 0.127</td> <td>   -0.066</td> <td>    0.008</td>\n",
              "</tr>\n",
              "<tr>\n",
              "  <th>Owner</th>         <td>   -0.0094</td> <td>    0.017</td> <td>   -0.539</td> <td> 0.591</td> <td>   -0.044</td> <td>    0.025</td>\n",
              "</tr>\n",
              "</table>\n",
              "<table class=\"simpletable\">\n",
              "<tr>\n",
              "  <th>Omnibus:</th>       <td>16.250</td> <th>  Durbin-Watson:     </th> <td>   1.746</td>\n",
              "</tr>\n",
              "<tr>\n",
              "  <th>Prob(Omnibus):</th> <td> 0.000</td> <th>  Jarque-Bera (JB):  </th> <td>  19.430</td>\n",
              "</tr>\n",
              "<tr>\n",
              "  <th>Skew:</th>          <td> 0.687</td> <th>  Prob(JB):          </th> <td>6.04e-05</td>\n",
              "</tr>\n",
              "<tr>\n",
              "  <th>Kurtosis:</th>      <td> 4.058</td> <th>  Cond. No.          </th> <td>    8.18</td>\n",
              "</tr>\n",
              "</table><br/><br/>Notes:<br/>[1] Standard Errors assume that the covariance matrix of the errors is correctly specified."
            ],
            "text/latex": "\\begin{center}\n\\begin{tabular}{lclc}\n\\toprule\n\\textbf{Dep. Variable:}    &  Selling\\_Price  & \\textbf{  R-squared:         } &     0.863   \\\\\n\\textbf{Model:}            &       OLS        & \\textbf{  Adj. R-squared:    } &     0.856   \\\\\n\\textbf{Method:}           &  Least Squares   & \\textbf{  F-statistic:       } &     115.0   \\\\\n\\textbf{Date:}             & Sun, 26 Nov 2023 & \\textbf{  Prob (F-statistic):} &  4.30e-59   \\\\\n\\textbf{Time:}             &     10:21:25     & \\textbf{  Log-Likelihood:    } &    74.123   \\\\\n\\textbf{No. Observations:} &         155      & \\textbf{  AIC:               } &    -130.2   \\\\\n\\textbf{Df Residuals:}     &         146      & \\textbf{  BIC:               } &    -102.9   \\\\\n\\textbf{Df Model:}         &           8      & \\textbf{                     } &             \\\\\n\\textbf{Covariance Type:}  &    nonrobust     & \\textbf{                     } &             \\\\\n\\bottomrule\n\\end{tabular}\n\\begin{tabular}{lcccccc}\n                        & \\textbf{coef} & \\textbf{std err} & \\textbf{t} & \\textbf{P$> |$t$|$} & \\textbf{[0.025} & \\textbf{0.975]}  \\\\\n\\midrule\n\\textbf{const}          &       0.0415  &        0.025     &     1.636  &         0.104        &       -0.009    &        0.092     \\\\\n\\textbf{Car\\_Name}      &      -0.0045  &        0.028     &    -0.158  &         0.875        &       -0.061    &        0.052     \\\\\n\\textbf{Year}           &       0.1673  &        0.019     &     8.698  &         0.000        &        0.129    &        0.205     \\\\\n\\textbf{Present\\_Price} &       1.0592  &        0.070     &    15.099  &         0.000        &        0.921    &        1.198     \\\\\n\\textbf{Kms\\_Driven}    &      -0.0609  &        0.035     &    -1.757  &         0.081        &       -0.129    &        0.008     \\\\\n\\textbf{Fuel\\_Type}     &      -0.0180  &        0.014     &    -1.273  &         0.205        &       -0.046    &        0.010     \\\\\n\\textbf{Seller\\_Type}   &      -0.0337  &        0.028     &    -1.191  &         0.236        &       -0.090    &        0.022     \\\\\n\\textbf{Transmission}   &      -0.0288  &        0.019     &    -1.533  &         0.127        &       -0.066    &        0.008     \\\\\n\\textbf{Owner}          &      -0.0094  &        0.017     &    -0.539  &         0.591        &       -0.044    &        0.025     \\\\\n\\bottomrule\n\\end{tabular}\n\\begin{tabular}{lclc}\n\\textbf{Omnibus:}       & 16.250 & \\textbf{  Durbin-Watson:     } &    1.746  \\\\\n\\textbf{Prob(Omnibus):} &  0.000 & \\textbf{  Jarque-Bera (JB):  } &   19.430  \\\\\n\\textbf{Skew:}          &  0.687 & \\textbf{  Prob(JB):          } & 6.04e-05  \\\\\n\\textbf{Kurtosis:}      &  4.058 & \\textbf{  Cond. No.          } &     8.18  \\\\\n\\bottomrule\n\\end{tabular}\n%\\caption{OLS Regression Results}\n\\end{center}\n\nNotes: \\newline\n [1] Standard Errors assume that the covariance matrix of the errors is correctly specified."
          },
          "metadata": {},
          "execution_count": 78
        }
      ]
    },
    {
      "cell_type": "code",
      "source": [
        "# Getting parameter values\n",
        "print(\"Beta Parameters:\", ols_model.params)"
      ],
      "metadata": {
        "colab": {
          "base_uri": "https://localhost:8080/"
        },
        "id": "Hmq8yIJ2-RAC",
        "outputId": "5d28ece4-6c66-495a-94b8-b969bb01d5d6"
      },
      "execution_count": 79,
      "outputs": [
        {
          "output_type": "stream",
          "name": "stdout",
          "text": [
            "Beta Parameters: const            0.041477\n",
            "Car_Name        -0.004502\n",
            "Year             0.167320\n",
            "Present_Price    1.059210\n",
            "Kms_Driven      -0.060865\n",
            "Fuel_Type       -0.018030\n",
            "Seller_Type     -0.033714\n",
            "Transmission    -0.028754\n",
            "Owner           -0.009398\n",
            "dtype: float64\n"
          ]
        }
      ]
    },
    {
      "cell_type": "markdown",
      "metadata": {
        "id": "DncmS_bMLy_6"
      },
      "source": [
        "<table align=\"left\">\n",
        "    <tr>\n",
        "        <td width=\"6%\">\n",
        "            <img src=\"question_icon.png\">\n",
        "        </td>\n",
        "        <td>\n",
        "            <div align=\"left\", style=\"font-size:120%\">\n",
        "                <font color=\"#21618C\">\n",
        "                    <b>2. Is there multicollinearity present? If yes, which variables are involved in multicollinearity?    </b>\n",
        "                </font>\n",
        "            </div>\n",
        "        </td>\n",
        "    </tr>\n",
        "</table>"
      ]
    },
    {
      "cell_type": "code",
      "source": [
        "#BUT HEATMAP DOES NOT TELL THE CORRELATION BETWEEN TWO VARIABLES\n",
        "# TO CHECK MULTI COLLENIARITY YOU NEED TO FIND VIF VALUES\n",
        "from statsmodels.stats.outliers_influence import variance_inflation_factor\n",
        "\n",
        "vif = pd.DataFrame()\n",
        "vif[\"Variable\"] = x.columns\n",
        "vif[\"VIF\"] = [variance_inflation_factor(x.values, i) for i in range(x.shape[1])]\n",
        "print(vif)"
      ],
      "metadata": {
        "colab": {
          "base_uri": "https://localhost:8080/"
        },
        "id": "1zlLmmwlATOd",
        "outputId": "3e1e0339-28f8-4fa5-ba54-fd45b60d3ee6"
      },
      "execution_count": 38,
      "outputs": [
        {
          "output_type": "stream",
          "name": "stdout",
          "text": [
            "        Variable       VIF\n",
            "0       Car_Name  3.217850\n",
            "1           Year  2.232743\n",
            "2  Selling_Price  1.863931\n",
            "3     Kms_Driven  2.192765\n",
            "4      Fuel_Type  1.344583\n",
            "5    Seller_Type  3.567909\n",
            "6   Transmission  1.203378\n",
            "7          Owner  1.003346\n"
          ]
        }
      ]
    },
    {
      "cell_type": "code",
      "source": [
        "sns.barplot(x=vif[\"Variable\"],y=vif[\"VIF\"])\n",
        "plt.axhline(y=5, color='r', linestyle='--', label='Threshold')\n",
        "plt.xticks(rotation=45)\n",
        "plt.figure(figsize=(50, 10))\n",
        "\n",
        "plt.show()"
      ],
      "metadata": {
        "colab": {
          "base_uri": "https://localhost:8080/",
          "height": 541
        },
        "id": "lapoj2w6BBCs",
        "outputId": "27b45333-bbb4-4fdb-bca6-da7f86e788bc"
      },
      "execution_count": 39,
      "outputs": [
        {
          "output_type": "display_data",
          "data": {
            "text/plain": [
              "<Figure size 640x480 with 1 Axes>"
            ],
            "image/png": "[encoded data removed]"
          },
          "metadata": {}
        },
        {
          "output_type": "display_data",
          "data": {
            "text/plain": [
              "<Figure size 5000x1000 with 0 Axes>"
            ]
          },
          "metadata": {}
        }
      ]
    },
    {
      "cell_type": "markdown",
      "source": [
        "NO THERE IS NO VALUE FOR VIF > 5 hence NO"
      ],
      "metadata": {
        "id": "8USuin-Z_NKW"
      }
    },
    {
      "cell_type": "code",
      "execution_count": 40,
      "metadata": {
        "id": "4t4gyAC1Ly_7",
        "colab": {
          "base_uri": "https://localhost:8080/",
          "height": 546
        },
        "outputId": "7fd80e09-73dd-4705-c102-b635cf191c39"
      },
      "outputs": [
        {
          "output_type": "execute_result",
          "data": {
            "text/plain": [
              "<Axes: >"
            ]
          },
          "metadata": {},
          "execution_count": 40
        },
        {
          "output_type": "display_data",
          "data": {
            "text/plain": [
              "<Figure size 640x480 with 2 Axes>"
            ],
            "image/png": "[encoded data removed]"
          },
          "metadata": {}
        }
      ],
      "source": [
        "# method - USING correlation HEATMAP\n",
        "\n",
        "sns.heatmap(df.corr(), annot=True, cmap=\"YlGnBu\")"
      ]
    },
    {
      "cell_type": "markdown",
      "metadata": {
        "id": "qDv_UrNMLy_8"
      },
      "source": [
        "<table align=\"left\">\n",
        "    <tr>\n",
        "        <td width=\"6%\">\n",
        "            <img src=\"question_icon.png\">\n",
        "        </td>\n",
        "        <td>\n",
        "            <div align=\"left\", style=\"font-size:120%\">\n",
        "                <font color=\"#21618C\">\n",
        "                    <b>3. What is the impact of present price of the car and seller type on the selling price?\n",
        "                    </b>\n",
        "                </font>\n",
        "            </div>\n",
        "        </td>\n",
        "    </tr>\n",
        "</table>"
      ]
    },
    {
      "cell_type": "code",
      "source": [
        "df[\"Seller_Type\"].unique()"
      ],
      "metadata": {
        "colab": {
          "base_uri": "https://localhost:8080/"
        },
        "id": "97OEDODf_0ha",
        "outputId": "c7786187-483d-44fb-87e8-7c01640a2f57"
      },
      "execution_count": 45,
      "outputs": [
        {
          "output_type": "execute_result",
          "data": {
            "text/plain": [
              "array(['Dealer', 'Individual'], dtype=object)"
            ]
          },
          "metadata": {},
          "execution_count": 45
        }
      ]
    },
    {
      "cell_type": "code",
      "execution_count": 50,
      "metadata": {
        "id": "s7vHfbFpLy__",
        "colab": {
          "base_uri": "https://localhost:8080/",
          "height": 480
        },
        "outputId": "ed381ae3-72ce-4cdf-fb8f-e971d0df5e93"
      },
      "outputs": [
        {
          "output_type": "display_data",
          "data": {
            "text/plain": [
              "<Figure size 640x480 with 1 Axes>"
            ],
            "image/png": "[encoded data removed]"
          },
          "metadata": {}
        }
      ],
      "source": [
        "# SELLING PRICE is NUMERICAL\n",
        "# SELLER type is categorical\n",
        "\n",
        "sns.boxenplot(y=df[\"Selling_Price\"], x=df[\"Seller_Type\"])\n",
        "plt.title('Box Plot')\n",
        "plt.xlabel('Seller_Type')\n",
        "plt.ylabel('Selling_Price')\n",
        "plt.show()"
      ]
    },
    {
      "cell_type": "code",
      "source": [
        "sns.swarmplot(y=df[\"Selling_Price\"], x=df[\"Seller_Type\"])\n",
        "plt.title('Box Plot')\n",
        "plt.xlabel('Seller_Type')\n",
        "plt.ylabel('Selling_Price')\n",
        "plt.show()"
      ],
      "metadata": {
        "colab": {
          "base_uri": "https://localhost:8080/",
          "height": 554
        },
        "id": "0Z5R9bJNDeDp",
        "outputId": "871b0a35-63cc-4814-fe55-1d0c28006677"
      },
      "execution_count": 51,
      "outputs": [
        {
          "output_type": "stream",
          "name": "stderr",
          "text": [
            "/usr/local/lib/python3.10/dist-packages/seaborn/categorical.py:3544: UserWarning: 21.7% of the points cannot be placed; you may want to decrease the size of the markers or use stripplot.\n",
            "  warnings.warn(msg, UserWarning)\n",
            "/usr/local/lib/python3.10/dist-packages/seaborn/categorical.py:3544: UserWarning: 42.5% of the points cannot be placed; you may want to decrease the size of the markers or use stripplot.\n",
            "  warnings.warn(msg, UserWarning)\n"
          ]
        },
        {
          "output_type": "display_data",
          "data": {
            "text/plain": [
              "<Figure size 640x480 with 1 Axes>"
            ],
            "image/png": "[encoded data removed]"
          },
          "metadata": {}
        }
      ]
    },
    {
      "cell_type": "markdown",
      "metadata": {
        "id": "HGX16a8QLzAA"
      },
      "source": [
        "<table align=\"left\">\n",
        "    <tr>\n",
        "        <td width=\"6%\">\n",
        "            <img src=\"question_icon.png\">\n",
        "        </td>\n",
        "        <td>\n",
        "            <div align=\"left\", style=\"font-size:120%\">\n",
        "                <font color=\"#21618C\">\n",
        "                    <b>4. Consider all the numeric features in the data. Do all of them significantly contribute to explaining the variation in the selling price?\n",
        "                    </b>\n",
        "                </font>\n",
        "            </div>\n",
        "        </td>\n",
        "    </tr>\n",
        "</table>"
      ]
    },
    {
      "cell_type": "code",
      "execution_count": 53,
      "metadata": {
        "id": "ktKfSnRkLzAC",
        "colab": {
          "base_uri": "https://localhost:8080/"
        },
        "outputId": "1a91e4b7-26d2-4e90-c1b0-6da92dd95d1c"
      },
      "outputs": [
        {
          "output_type": "execute_result",
          "data": {
            "text/plain": [
              "Car_Name          object\n",
              "Year               int64\n",
              "Selling_Price    float64\n",
              "Present_Price    float64\n",
              "Kms_Driven         int64\n",
              "Fuel_Type         object\n",
              "Seller_Type       object\n",
              "Transmission      object\n",
              "Owner              int64\n",
              "dtype: object"
            ]
          },
          "metadata": {},
          "execution_count": 53
        }
      ],
      "source": [
        "df.dtypes"
      ]
    },
    {
      "cell_type": "code",
      "source": [
        "x=df[[\"Year\",\"Present_Price\",\"Kms_Driven\"]]\n",
        "y=df[\"Selling_Price\"]\n",
        "\n",
        "x_c=sm.add_constant(x)\n",
        "ols_model=sm.OLS(y,x_c).fit()\n",
        "ols_model.summary()\n",
        "\n",
        "\n",
        "\n",
        "\n",
        "# ONLY  Kms_Driven has an effect on selling price"
      ],
      "metadata": {
        "colab": {
          "base_uri": "https://localhost:8080/",
          "height": 475
        },
        "id": "H3u1Xcu8BCfA",
        "outputId": "f28dc43b-f47e-4ba1-e1bc-919cbf57c8fa"
      },
      "execution_count": 61,
      "outputs": [
        {
          "output_type": "execute_result",
          "data": {
            "text/plain": [
              "<class 'statsmodels.iolib.summary.Summary'>\n",
              "\"\"\"\n",
              "                            OLS Regression Results                            \n",
              "==============================================================================\n",
              "Dep. Variable:          Selling_Price   R-squared:                       0.858\n",
              "Model:                            OLS   Adj. R-squared:                  0.855\n",
              "Method:                 Least Squares   F-statistic:                     304.7\n",
              "Date:                Sun, 26 Nov 2023   Prob (F-statistic):           8.01e-64\n",
              "Time:                        09:47:55   Log-Likelihood:                 71.464\n",
              "No. Observations:                 155   AIC:                            -134.9\n",
              "Df Residuals:                     151   BIC:                            -122.8\n",
              "Df Model:                           3                                         \n",
              "Covariance Type:            nonrobust                                         \n",
              "=================================================================================\n",
              "                    coef    std err          t      P>|t|      [0.025      0.975]\n",
              "---------------------------------------------------------------------------------\n",
              "const             0.0627      0.015      4.244      0.000       0.033       0.092\n",
              "Year              0.1730      0.019      9.269      0.000       0.136       0.210\n",
              "Present_Price     1.1456      0.044     25.813      0.000       1.058       1.233\n",
              "Kms_Driven       -0.0435      0.033     -1.331      0.185      -0.108       0.021\n",
              "==============================================================================\n",
              "Omnibus:                        8.136   Durbin-Watson:                   1.682\n",
              "Prob(Omnibus):                  0.017   Jarque-Bera (JB):                7.928\n",
              "Skew:                           0.493   Prob(JB):                       0.0190\n",
              "Kurtosis:                       3.506   Cond. No.                         4.14\n",
              "==============================================================================\n",
              "\n",
              "Notes:\n",
              "[1] Standard Errors assume that the covariance matrix of the errors is correctly specified.\n",
              "\"\"\""
            ],
            "text/html": [
              "<table class=\"simpletable\">\n",
              "<caption>OLS Regression Results</caption>\n",
              "<tr>\n",
              "  <th>Dep. Variable:</th>      <td>Selling_Price</td>  <th>  R-squared:         </th> <td>   0.858</td>\n",
              "</tr>\n",
              "<tr>\n",
              "  <th>Model:</th>                   <td>OLS</td>       <th>  Adj. R-squared:    </th> <td>   0.855</td>\n",
              "</tr>\n",
              "<tr>\n",
              "  <th>Method:</th>             <td>Least Squares</td>  <th>  F-statistic:       </th> <td>   304.7</td>\n",
              "</tr>\n",
              "<tr>\n",
              "  <th>Date:</th>             <td>Sun, 26 Nov 2023</td> <th>  Prob (F-statistic):</th> <td>8.01e-64</td>\n",
              "</tr>\n",
              "<tr>\n",
              "  <th>Time:</th>                 <td>09:47:55</td>     <th>  Log-Likelihood:    </th> <td>  71.464</td>\n",
              "</tr>\n",
              "<tr>\n",
              "  <th>No. Observations:</th>      <td>   155</td>      <th>  AIC:               </th> <td>  -134.9</td>\n",
              "</tr>\n",
              "<tr>\n",
              "  <th>Df Residuals:</th>          <td>   151</td>      <th>  BIC:               </th> <td>  -122.8</td>\n",
              "</tr>\n",
              "<tr>\n",
              "  <th>Df Model:</th>              <td>     3</td>      <th>                     </th>     <td> </td>   \n",
              "</tr>\n",
              "<tr>\n",
              "  <th>Covariance Type:</th>      <td>nonrobust</td>    <th>                     </th>     <td> </td>   \n",
              "</tr>\n",
              "</table>\n",
              "<table class=\"simpletable\">\n",
              "<tr>\n",
              "        <td></td>           <th>coef</th>     <th>std err</th>      <th>t</th>      <th>P>|t|</th>  <th>[0.025</th>    <th>0.975]</th>  \n",
              "</tr>\n",
              "<tr>\n",
              "  <th>const</th>         <td>    0.0627</td> <td>    0.015</td> <td>    4.244</td> <td> 0.000</td> <td>    0.033</td> <td>    0.092</td>\n",
              "</tr>\n",
              "<tr>\n",
              "  <th>Year</th>          <td>    0.1730</td> <td>    0.019</td> <td>    9.269</td> <td> 0.000</td> <td>    0.136</td> <td>    0.210</td>\n",
              "</tr>\n",
              "<tr>\n",
              "  <th>Present_Price</th> <td>    1.1456</td> <td>    0.044</td> <td>   25.813</td> <td> 0.000</td> <td>    1.058</td> <td>    1.233</td>\n",
              "</tr>\n",
              "<tr>\n",
              "  <th>Kms_Driven</th>    <td>   -0.0435</td> <td>    0.033</td> <td>   -1.331</td> <td> 0.185</td> <td>   -0.108</td> <td>    0.021</td>\n",
              "</tr>\n",
              "</table>\n",
              "<table class=\"simpletable\">\n",
              "<tr>\n",
              "  <th>Omnibus:</th>       <td> 8.136</td> <th>  Durbin-Watson:     </th> <td>   1.682</td>\n",
              "</tr>\n",
              "<tr>\n",
              "  <th>Prob(Omnibus):</th> <td> 0.017</td> <th>  Jarque-Bera (JB):  </th> <td>   7.928</td>\n",
              "</tr>\n",
              "<tr>\n",
              "  <th>Skew:</th>          <td> 0.493</td> <th>  Prob(JB):          </th> <td>  0.0190</td>\n",
              "</tr>\n",
              "<tr>\n",
              "  <th>Kurtosis:</th>      <td> 3.506</td> <th>  Cond. No.          </th> <td>    4.14</td>\n",
              "</tr>\n",
              "</table><br/><br/>Notes:<br/>[1] Standard Errors assume that the covariance matrix of the errors is correctly specified."
            ],
            "text/latex": "\\begin{center}\n\\begin{tabular}{lclc}\n\\toprule\n\\textbf{Dep. Variable:}    &  Selling\\_Price  & \\textbf{  R-squared:         } &     0.858   \\\\\n\\textbf{Model:}            &       OLS        & \\textbf{  Adj. R-squared:    } &     0.855   \\\\\n\\textbf{Method:}           &  Least Squares   & \\textbf{  F-statistic:       } &     304.7   \\\\\n\\textbf{Date:}             & Sun, 26 Nov 2023 & \\textbf{  Prob (F-statistic):} &  8.01e-64   \\\\\n\\textbf{Time:}             &     09:47:55     & \\textbf{  Log-Likelihood:    } &    71.464   \\\\\n\\textbf{No. Observations:} &         155      & \\textbf{  AIC:               } &    -134.9   \\\\\n\\textbf{Df Residuals:}     &         151      & \\textbf{  BIC:               } &    -122.8   \\\\\n\\textbf{Df Model:}         &           3      & \\textbf{                     } &             \\\\\n\\textbf{Covariance Type:}  &    nonrobust     & \\textbf{                     } &             \\\\\n\\bottomrule\n\\end{tabular}\n\\begin{tabular}{lcccccc}\n                        & \\textbf{coef} & \\textbf{std err} & \\textbf{t} & \\textbf{P$> |$t$|$} & \\textbf{[0.025} & \\textbf{0.975]}  \\\\\n\\midrule\n\\textbf{const}          &       0.0627  &        0.015     &     4.244  &         0.000        &        0.033    &        0.092     \\\\\n\\textbf{Year}           &       0.1730  &        0.019     &     9.269  &         0.000        &        0.136    &        0.210     \\\\\n\\textbf{Present\\_Price} &       1.1456  &        0.044     &    25.813  &         0.000        &        1.058    &        1.233     \\\\\n\\textbf{Kms\\_Driven}    &      -0.0435  &        0.033     &    -1.331  &         0.185        &       -0.108    &        0.021     \\\\\n\\bottomrule\n\\end{tabular}\n\\begin{tabular}{lclc}\n\\textbf{Omnibus:}       &  8.136 & \\textbf{  Durbin-Watson:     } &    1.682  \\\\\n\\textbf{Prob(Omnibus):} &  0.017 & \\textbf{  Jarque-Bera (JB):  } &    7.928  \\\\\n\\textbf{Skew:}          &  0.493 & \\textbf{  Prob(JB):          } &   0.0190  \\\\\n\\textbf{Kurtosis:}      &  3.506 & \\textbf{  Cond. No.          } &     4.14  \\\\\n\\bottomrule\n\\end{tabular}\n%\\caption{OLS Regression Results}\n\\end{center}\n\nNotes: \\newline\n [1] Standard Errors assume that the covariance matrix of the errors is correctly specified."
          },
          "metadata": {},
          "execution_count": 61
        }
      ]
    },
    {
      "cell_type": "markdown",
      "metadata": {
        "id": "wgGLITc6LzAD"
      },
      "source": [
        "<table align=\"left\">\n",
        "    <tr>\n",
        "        <td width=\"6%\">\n",
        "            <img src=\"question_icon.png\">\n",
        "        </td>\n",
        "        <td>\n",
        "            <div align=\"left\", style=\"font-size:120%\">\n",
        "                <font color=\"#21618C\">\n",
        "                    <b>5. In the model obtained in question 4, consider the interaction effect of the present price of the car and the year in which it was purchased. Compare the resultant model with the model obtained in previous question and give your interpretation\n",
        "                    </b>\n",
        "                </font>\n",
        "            </div>\n",
        "        </td>\n",
        "    </tr>\n",
        "</table>"
      ]
    },
    {
      "cell_type": "code",
      "execution_count": 63,
      "metadata": {
        "id": "zJaqMCjMLzAF",
        "colab": {
          "base_uri": "https://localhost:8080/",
          "height": 434
        },
        "outputId": "b0430c15-0c25-49af-f2c9-0dbee68c890f"
      },
      "outputs": [
        {
          "output_type": "execute_result",
          "data": {
            "text/plain": [
              "<class 'statsmodels.iolib.summary.Summary'>\n",
              "\"\"\"\n",
              "                            OLS Regression Results                            \n",
              "==============================================================================\n",
              "Dep. Variable:                   Year   R-squared:                       0.002\n",
              "Model:                            OLS   Adj. R-squared:                 -0.001\n",
              "Method:                 Least Squares   F-statistic:                    0.6785\n",
              "Date:                Sun, 26 Nov 2023   Prob (F-statistic):              0.411\n",
              "Time:                        09:51:22   Log-Likelihood:                -745.86\n",
              "No. Observations:                 301   AIC:                             1496.\n",
              "Df Residuals:                     299   BIC:                             1503.\n",
              "Df Model:                           1                                         \n",
              "Covariance Type:            nonrobust                                         \n",
              "=================================================================================\n",
              "                    coef    std err          t      P>|t|      [0.025      0.975]\n",
              "---------------------------------------------------------------------------------\n",
              "const          2013.7493      0.223   9047.790      0.000    2013.311    2014.187\n",
              "Present_Price    -0.0159      0.019     -0.824      0.411      -0.054       0.022\n",
              "==============================================================================\n",
              "Omnibus:                       64.816   Durbin-Watson:                   1.657\n",
              "Prob(Omnibus):                  0.000   Jarque-Bera (JB):              106.069\n",
              "Skew:                          -1.243   Prob(JB):                     9.27e-24\n",
              "Kurtosis:                       4.508   Cond. No.                         15.4\n",
              "==============================================================================\n",
              "\n",
              "Notes:\n",
              "[1] Standard Errors assume that the covariance matrix of the errors is correctly specified.\n",
              "\"\"\""
            ],
            "text/html": [
              "<table class=\"simpletable\">\n",
              "<caption>OLS Regression Results</caption>\n",
              "<tr>\n",
              "  <th>Dep. Variable:</th>          <td>Year</td>       <th>  R-squared:         </th> <td>   0.002</td>\n",
              "</tr>\n",
              "<tr>\n",
              "  <th>Model:</th>                   <td>OLS</td>       <th>  Adj. R-squared:    </th> <td>  -0.001</td>\n",
              "</tr>\n",
              "<tr>\n",
              "  <th>Method:</th>             <td>Least Squares</td>  <th>  F-statistic:       </th> <td>  0.6785</td>\n",
              "</tr>\n",
              "<tr>\n",
              "  <th>Date:</th>             <td>Sun, 26 Nov 2023</td> <th>  Prob (F-statistic):</th>  <td> 0.411</td> \n",
              "</tr>\n",
              "<tr>\n",
              "  <th>Time:</th>                 <td>09:51:22</td>     <th>  Log-Likelihood:    </th> <td> -745.86</td>\n",
              "</tr>\n",
              "<tr>\n",
              "  <th>No. Observations:</th>      <td>   301</td>      <th>  AIC:               </th> <td>   1496.</td>\n",
              "</tr>\n",
              "<tr>\n",
              "  <th>Df Residuals:</th>          <td>   299</td>      <th>  BIC:               </th> <td>   1503.</td>\n",
              "</tr>\n",
              "<tr>\n",
              "  <th>Df Model:</th>              <td>     1</td>      <th>                     </th>     <td> </td>   \n",
              "</tr>\n",
              "<tr>\n",
              "  <th>Covariance Type:</th>      <td>nonrobust</td>    <th>                     </th>     <td> </td>   \n",
              "</tr>\n",
              "</table>\n",
              "<table class=\"simpletable\">\n",
              "<tr>\n",
              "        <td></td>           <th>coef</th>     <th>std err</th>      <th>t</th>      <th>P>|t|</th>  <th>[0.025</th>    <th>0.975]</th>  \n",
              "</tr>\n",
              "<tr>\n",
              "  <th>const</th>         <td> 2013.7493</td> <td>    0.223</td> <td> 9047.790</td> <td> 0.000</td> <td> 2013.311</td> <td> 2014.187</td>\n",
              "</tr>\n",
              "<tr>\n",
              "  <th>Present_Price</th> <td>   -0.0159</td> <td>    0.019</td> <td>   -0.824</td> <td> 0.411</td> <td>   -0.054</td> <td>    0.022</td>\n",
              "</tr>\n",
              "</table>\n",
              "<table class=\"simpletable\">\n",
              "<tr>\n",
              "  <th>Omnibus:</th>       <td>64.816</td> <th>  Durbin-Watson:     </th> <td>   1.657</td>\n",
              "</tr>\n",
              "<tr>\n",
              "  <th>Prob(Omnibus):</th> <td> 0.000</td> <th>  Jarque-Bera (JB):  </th> <td> 106.069</td>\n",
              "</tr>\n",
              "<tr>\n",
              "  <th>Skew:</th>          <td>-1.243</td> <th>  Prob(JB):          </th> <td>9.27e-24</td>\n",
              "</tr>\n",
              "<tr>\n",
              "  <th>Kurtosis:</th>      <td> 4.508</td> <th>  Cond. No.          </th> <td>    15.4</td>\n",
              "</tr>\n",
              "</table><br/><br/>Notes:<br/>[1] Standard Errors assume that the covariance matrix of the errors is correctly specified."
            ],
            "text/latex": "\\begin{center}\n\\begin{tabular}{lclc}\n\\toprule\n\\textbf{Dep. Variable:}    &       Year       & \\textbf{  R-squared:         } &     0.002   \\\\\n\\textbf{Model:}            &       OLS        & \\textbf{  Adj. R-squared:    } &    -0.001   \\\\\n\\textbf{Method:}           &  Least Squares   & \\textbf{  F-statistic:       } &    0.6785   \\\\\n\\textbf{Date:}             & Sun, 26 Nov 2023 & \\textbf{  Prob (F-statistic):} &    0.411    \\\\\n\\textbf{Time:}             &     09:51:22     & \\textbf{  Log-Likelihood:    } &   -745.86   \\\\\n\\textbf{No. Observations:} &         301      & \\textbf{  AIC:               } &     1496.   \\\\\n\\textbf{Df Residuals:}     &         299      & \\textbf{  BIC:               } &     1503.   \\\\\n\\textbf{Df Model:}         &           1      & \\textbf{                     } &             \\\\\n\\textbf{Covariance Type:}  &    nonrobust     & \\textbf{                     } &             \\\\\n\\bottomrule\n\\end{tabular}\n\\begin{tabular}{lcccccc}\n                        & \\textbf{coef} & \\textbf{std err} & \\textbf{t} & \\textbf{P$> |$t$|$} & \\textbf{[0.025} & \\textbf{0.975]}  \\\\\n\\midrule\n\\textbf{const}          &    2013.7493  &        0.223     &  9047.790  &         0.000        &     2013.311    &     2014.187     \\\\\n\\textbf{Present\\_Price} &      -0.0159  &        0.019     &    -0.824  &         0.411        &       -0.054    &        0.022     \\\\\n\\bottomrule\n\\end{tabular}\n\\begin{tabular}{lclc}\n\\textbf{Omnibus:}       & 64.816 & \\textbf{  Durbin-Watson:     } &    1.657  \\\\\n\\textbf{Prob(Omnibus):} &  0.000 & \\textbf{  Jarque-Bera (JB):  } &  106.069  \\\\\n\\textbf{Skew:}          & -1.243 & \\textbf{  Prob(JB):          } & 9.27e-24  \\\\\n\\textbf{Kurtosis:}      &  4.508 & \\textbf{  Cond. No.          } &     15.4  \\\\\n\\bottomrule\n\\end{tabular}\n%\\caption{OLS Regression Results}\n\\end{center}\n\nNotes: \\newline\n [1] Standard Errors assume that the covariance matrix of the errors is correctly specified."
          },
          "metadata": {},
          "execution_count": 63
        }
      ],
      "source": [
        "x=df[\"Present_Price\"]\n",
        "y=df[\"Year\"]\n",
        "\n",
        "x_c=sm.add_constant(x)\n",
        "ols_model=sm.OLS(y,x_c).fit()\n",
        "ols_model.summary()\n",
        "\n",
        "\n",
        "\n",
        "# PRESENT PRICE is having significant impact on Year"
      ]
    },
    {
      "cell_type": "code",
      "source": [
        "sns.scatterplot(y=df['Year'],x=df['Present_Price'])"
      ],
      "metadata": {
        "colab": {
          "base_uri": "https://localhost:8080/",
          "height": 476
        },
        "id": "gcb8SNeaCpD8",
        "outputId": "52429b65-2142-424c-e572-abb507ed96aa"
      },
      "execution_count": 65,
      "outputs": [
        {
          "output_type": "execute_result",
          "data": {
            "text/plain": [
              "<Axes: xlabel='Present_Price', ylabel='Year'>"
            ]
          },
          "metadata": {},
          "execution_count": 65
        },
        {
          "output_type": "display_data",
          "data": {
            "text/plain": [
              "<Figure size 640x480 with 1 Axes>"
            ],
            "image/png": "[encoded data removed]"
          },
          "metadata": {}
        }
      ]
    },
    {
      "cell_type": "markdown",
      "metadata": {
        "id": "ldOMggUELzAH"
      },
      "source": [
        "<table align=\"left\">\n",
        "    <tr>\n",
        "        <td width=\"6%\">\n",
        "            <img src=\"question_icon.png\">\n",
        "        </td>\n",
        "        <td>\n",
        "            <div align=\"left\", style=\"font-size:120%\">\n",
        "                <font color=\"#21618C\">\n",
        "                    <b>6. What is the impact of fuel type of cars on the selling price?\n",
        "                    </b>\n",
        "                </font>\n",
        "            </div>\n",
        "        </td>\n",
        "    </tr>\n",
        "</table>"
      ]
    },
    {
      "cell_type": "code",
      "source": [
        "df.head()"
      ],
      "metadata": {
        "colab": {
          "base_uri": "https://localhost:8080/",
          "height": 206
        },
        "id": "YuzYOSCCD8nF",
        "outputId": "3cf7b634-95e9-412a-b6e5-72d01fa016c8"
      },
      "execution_count": 66,
      "outputs": [
        {
          "output_type": "execute_result",
          "data": {
            "text/plain": [
              "  Car_Name  Year  Selling_Price  Present_Price  Kms_Driven Fuel_Type  \\\n",
              "0     ritz  2014           3.35           5.59       27000    Petrol   \n",
              "1      sx4  2013           4.75           9.54       43000    Diesel   \n",
              "2     ciaz  2017           7.25           9.85        6900    Petrol   \n",
              "3  wagon r  2011           2.85           4.15        5200    Petrol   \n",
              "4    swift  2014           4.60           6.87       42450    Diesel   \n",
              "\n",
              "  Seller_Type Transmission  Owner  \n",
              "0      Dealer       Manual      0  \n",
              "1      Dealer       Manual      0  \n",
              "2      Dealer       Manual      0  \n",
              "3      Dealer       Manual      0  \n",
              "4      Dealer       Manual      0  "
            ],
            "text/html": [
              "\n",
              "  <div id=\"df-386784ed-00ec-4c87-91b7-9bd5903c1be6\" class=\"colab-df-container\">\n",
              "    <div>\n",
              "<style scoped>\n",
              "    .dataframe tbody tr th:only-of-type {\n",
              "        vertical-align: middle;\n",
              "    }\n",
              "\n",
              "    .dataframe tbody tr th {\n",
              "        vertical-align: top;\n",
              "    }\n",
              "\n",
              "    .dataframe thead th {\n",
              "        text-align: right;\n",
              "    }\n",
              "</style>\n",
              "<table border=\"1\" class=\"dataframe\">\n",
              "  <thead>\n",
              "    <tr style=\"text-align: right;\">\n",
              "      <th></th>\n",
              "      <th>Car_Name</th>\n",
              "      <th>Year</th>\n",
              "      <th>Selling_Price</th>\n",
              "      <th>Present_Price</th>\n",
              "      <th>Kms_Driven</th>\n",
              "      <th>Fuel_Type</th>\n",
              "      <th>Seller_Type</th>\n",
              "      <th>Transmission</th>\n",
              "      <th>Owner</th>\n",
              "    </tr>\n",
              "  </thead>\n",
              "  <tbody>\n",
              "    <tr>\n",
              "      <th>0</th>\n",
              "      <td>ritz</td>\n",
              "      <td>2014</td>\n",
              "      <td>3.35</td>\n",
              "      <td>5.59</td>\n",
              "      <td>27000</td>\n",
              "      <td>Petrol</td>\n",
              "      <td>Dealer</td>\n",
              "      <td>Manual</td>\n",
              "      <td>0</td>\n",
              "    </tr>\n",
              "    <tr>\n",
              "      <th>1</th>\n",
              "      <td>sx4</td>\n",
              "      <td>2013</td>\n",
              "      <td>4.75</td>\n",
              "      <td>9.54</td>\n",
              "      <td>43000</td>\n",
              "      <td>Diesel</td>\n",
              "      <td>Dealer</td>\n",
              "      <td>Manual</td>\n",
              "      <td>0</td>\n",
              "    </tr>\n",
              "    <tr>\n",
              "      <th>2</th>\n",
              "      <td>ciaz</td>\n",
              "      <td>2017</td>\n",
              "      <td>7.25</td>\n",
              "      <td>9.85</td>\n",
              "      <td>6900</td>\n",
              "      <td>Petrol</td>\n",
              "      <td>Dealer</td>\n",
              "      <td>Manual</td>\n",
              "      <td>0</td>\n",
              "    </tr>\n",
              "    <tr>\n",
              "      <th>3</th>\n",
              "      <td>wagon r</td>\n",
              "      <td>2011</td>\n",
              "      <td>2.85</td>\n",
              "      <td>4.15</td>\n",
              "      <td>5200</td>\n",
              "      <td>Petrol</td>\n",
              "      <td>Dealer</td>\n",
              "      <td>Manual</td>\n",
              "      <td>0</td>\n",
              "    </tr>\n",
              "    <tr>\n",
              "      <th>4</th>\n",
              "      <td>swift</td>\n",
              "      <td>2014</td>\n",
              "      <td>4.60</td>\n",
              "      <td>6.87</td>\n",
              "      <td>42450</td>\n",
              "      <td>Diesel</td>\n",
              "      <td>Dealer</td>\n",
              "      <td>Manual</td>\n",
              "      <td>0</td>\n",
              "    </tr>\n",
              "  </tbody>\n",
              "</table>\n",
              "</div>\n",
              "    <div class=\"colab-df-buttons\">\n",
              "\n",
              "  <div class=\"colab-df-container\">\n",
              "    <button class=\"colab-df-convert\" onclick=\"convertToInteractive('df-386784ed-00ec-4c87-91b7-9bd5903c1be6')\"\n",
              "            title=\"Convert this dataframe to an interactive table.\"\n",
              "            style=\"display:none;\">\n",
              "\n",
              "  <svg xmlns=\"http://www.w3.org/2000/svg\" height=\"24px\" viewBox=\"0 -960 960 960\">\n",
              "    <path d=\"M120-120v-720h720v720H120Zm60-500h600v-160H180v160Zm220 220h160v-160H400v160Zm0 220h160v-160H400v160ZM180-400h160v-160H180v160Zm440 0h160v-160H620v160ZM180-180h160v-160H180v160Zm440 0h160v-160H620v160Z\"/>\n",
              "  </svg>\n",
              "    </button>\n",
              "\n",
              "  <style>\n",
              "    .colab-df-container {\n",
              "      display:flex;\n",
              "      gap: 12px;\n",
              "    }\n",
              "\n",
              "    .colab-df-convert {\n",
              "      background-color: #E8F0FE;\n",
              "      border: none;\n",
              "      border-radius: 50%;\n",
              "      cursor: pointer;\n",
              "      display: none;\n",
              "      fill: #1967D2;\n",
              "      height: 32px;\n",
              "      padding: 0 0 0 0;\n",
              "      width: 32px;\n",
              "    }\n",
              "\n",
              "    .colab-df-convert:hover {\n",
              "      background-color: #E2EBFA;\n",
              "      box-shadow: 0px 1px 2px rgba(60, 64, 67, 0.3), 0px 1px 3px 1px rgba(60, 64, 67, 0.15);\n",
              "      fill: #174EA6;\n",
              "    }\n",
              "\n",
              "    .colab-df-buttons div {\n",
              "      margin-bottom: 4px;\n",
              "    }\n",
              "\n",
              "    [theme=dark] .colab-df-convert {\n",
              "      background-color: #3B4455;\n",
              "      fill: #D2E3FC;\n",
              "    }\n",
              "\n",
              "    [theme=dark] .colab-df-convert:hover {\n",
              "      background-color: #434B5C;\n",
              "      box-shadow: 0px 1px 3px 1px rgba(0, 0, 0, 0.15);\n",
              "      filter: drop-shadow(0px 1px 2px rgba(0, 0, 0, 0.3));\n",
              "      fill: #FFFFFF;\n",
              "    }\n",
              "  </style>\n",
              "\n",
              "    <script>\n",
              "      const buttonEl =\n",
              "        document.querySelector('#df-386784ed-00ec-4c87-91b7-9bd5903c1be6 button.colab-df-convert');\n",
              "      buttonEl.style.display =\n",
              "        google.colab.kernel.accessAllowed ? 'block' : 'none';\n",
              "\n",
              "      async function convertToInteractive(key) {\n",
              "        const element = document.querySelector('#df-386784ed-00ec-4c87-91b7-9bd5903c1be6');\n",
              "        const dataTable =\n",
              "          await google.colab.kernel.invokeFunction('convertToInteractive',\n",
              "                                                    [key], {});\n",
              "        if (!dataTable) return;\n",
              "\n",
              "        const docLinkHtml = 'Like what you see? Visit the ' +\n",
              "          '<a target=\"_blank\" href=https://colab.research.google.com/notebooks/data_table.ipynb>data table notebook</a>'\n",
              "          + ' to learn more about interactive tables.';\n",
              "        element.innerHTML = '';\n",
              "        dataTable['output_type'] = 'display_data';\n",
              "        await google.colab.output.renderOutput(dataTable, element);\n",
              "        const docLink = document.createElement('div');\n",
              "        docLink.innerHTML = docLinkHtml;\n",
              "        element.appendChild(docLink);\n",
              "      }\n",
              "    </script>\n",
              "  </div>\n",
              "\n",
              "\n",
              "<div id=\"df-0811d42d-a682-42c3-afcb-82bd5e9795d0\">\n",
              "  <button class=\"colab-df-quickchart\" onclick=\"quickchart('df-0811d42d-a682-42c3-afcb-82bd5e9795d0')\"\n",
              "            title=\"Suggest charts\"\n",
              "            style=\"display:none;\">\n",
              "\n",
              "<svg xmlns=\"http://www.w3.org/2000/svg\" height=\"24px\"viewBox=\"0 0 24 24\"\n",
              "     width=\"24px\">\n",
              "    <g>\n",
              "        <path d=\"M19 3H5c-1.1 0-2 .9-2 2v14c0 1.1.9 2 2 2h14c1.1 0 2-.9 2-2V5c0-1.1-.9-2-2-2zM9 17H7v-7h2v7zm4 0h-2V7h2v10zm4 0h-2v-4h2v4z\"/>\n",
              "    </g>\n",
              "</svg>\n",
              "  </button>\n",
              "\n",
              "<style>\n",
              "  .colab-df-quickchart {\n",
              "      --bg-color: #E8F0FE;\n",
              "      --fill-color: #1967D2;\n",
              "      --hover-bg-color: #E2EBFA;\n",
              "      --hover-fill-color: #174EA6;\n",
              "      --disabled-fill-color: #AAA;\n",
              "      --disabled-bg-color: #DDD;\n",
              "  }\n",
              "\n",
              "  [theme=dark] .colab-df-quickchart {\n",
              "      --bg-color: #3B4455;\n",
              "      --fill-color: #D2E3FC;\n",
              "      --hover-bg-color: #434B5C;\n",
              "      --hover-fill-color: #FFFFFF;\n",
              "      --disabled-bg-color: #3B4455;\n",
              "      --disabled-fill-color: #666;\n",
              "  }\n",
              "\n",
              "  .colab-df-quickchart {\n",
              "    background-color: var(--bg-color);\n",
              "    border: none;\n",
              "    border-radius: 50%;\n",
              "    cursor: pointer;\n",
              "    display: none;\n",
              "    fill: var(--fill-color);\n",
              "    height: 32px;\n",
              "    padding: 0;\n",
              "    width: 32px;\n",
              "  }\n",
              "\n",
              "  .colab-df-quickchart:hover {\n",
              "    background-color: var(--hover-bg-color);\n",
              "    box-shadow: 0 1px 2px rgba(60, 64, 67, 0.3), 0 1px 3px 1px rgba(60, 64, 67, 0.15);\n",
              "    fill: var(--button-hover-fill-color);\n",
              "  }\n",
              "\n",
              "  .colab-df-quickchart-complete:disabled,\n",
              "  .colab-df-quickchart-complete:disabled:hover {\n",
              "    background-color: var(--disabled-bg-color);\n",
              "    fill: var(--disabled-fill-color);\n",
              "    box-shadow: none;\n",
              "  }\n",
              "\n",
              "  .colab-df-spinner {\n",
              "    border: 2px solid var(--fill-color);\n",
              "    border-color: transparent;\n",
              "    border-bottom-color: var(--fill-color);\n",
              "    animation:\n",
              "      spin 1s steps(1) infinite;\n",
              "  }\n",
              "\n",
              "  @keyframes spin {\n",
              "    0% {\n",
              "      border-color: transparent;\n",
              "      border-bottom-color: var(--fill-color);\n",
              "      border-left-color: var(--fill-color);\n",
              "    }\n",
              "    20% {\n",
              "      border-color: transparent;\n",
              "      border-left-color: var(--fill-color);\n",
              "      border-top-color: var(--fill-color);\n",
              "    }\n",
              "    30% {\n",
              "      border-color: transparent;\n",
              "      border-left-color: var(--fill-color);\n",
              "      border-top-color: var(--fill-color);\n",
              "      border-right-color: var(--fill-color);\n",
              "    }\n",
              "    40% {\n",
              "      border-color: transparent;\n",
              "      border-right-color: var(--fill-color);\n",
              "      border-top-color: var(--fill-color);\n",
              "    }\n",
              "    60% {\n",
              "      border-color: transparent;\n",
              "      border-right-color: var(--fill-color);\n",
              "    }\n",
              "    80% {\n",
              "      border-color: transparent;\n",
              "      border-right-color: var(--fill-color);\n",
              "      border-bottom-color: var(--fill-color);\n",
              "    }\n",
              "    90% {\n",
              "      border-color: transparent;\n",
              "      border-bottom-color: var(--fill-color);\n",
              "    }\n",
              "  }\n",
              "</style>\n",
              "\n",
              "  <script>\n",
              "    async function quickchart(key) {\n",
              "      const quickchartButtonEl =\n",
              "        document.querySelector('#' + key + ' button');\n",
              "      quickchartButtonEl.disabled = true;  // To prevent multiple clicks.\n",
              "      quickchartButtonEl.classList.add('colab-df-spinner');\n",
              "      try {\n",
              "        const charts = await google.colab.kernel.invokeFunction(\n",
              "            'suggestCharts', [key], {});\n",
              "      } catch (error) {\n",
              "        console.error('Error during call to suggestCharts:', error);\n",
              "      }\n",
              "      quickchartButtonEl.classList.remove('colab-df-spinner');\n",
              "      quickchartButtonEl.classList.add('colab-df-quickchart-complete');\n",
              "    }\n",
              "    (() => {\n",
              "      let quickchartButtonEl =\n",
              "        document.querySelector('#df-0811d42d-a682-42c3-afcb-82bd5e9795d0 button');\n",
              "      quickchartButtonEl.style.display =\n",
              "        google.colab.kernel.accessAllowed ? 'block' : 'none';\n",
              "    })();\n",
              "  </script>\n",
              "</div>\n",
              "    </div>\n",
              "  </div>\n"
            ]
          },
          "metadata": {},
          "execution_count": 66
        }
      ]
    },
    {
      "cell_type": "code",
      "execution_count": 68,
      "metadata": {
        "id": "NCp7TIAmLzAK",
        "colab": {
          "base_uri": "https://localhost:8080/",
          "height": 434
        },
        "outputId": "412a575c-df0f-49da-afd9-910e3bab6bda"
      },
      "outputs": [
        {
          "output_type": "execute_result",
          "data": {
            "text/plain": [
              "<class 'statsmodels.iolib.summary.Summary'>\n",
              "\"\"\"\n",
              "                            OLS Regression Results                            \n",
              "==============================================================================\n",
              "Dep. Variable:          Selling_Price   R-squared:                       0.085\n",
              "Model:                            OLS   Adj. R-squared:                  0.079\n",
              "Method:                 Least Squares   F-statistic:                     14.30\n",
              "Date:                Sun, 26 Nov 2023   Prob (F-statistic):           0.000223\n",
              "Time:                        09:58:29   Log-Likelihood:                -73.018\n",
              "No. Observations:                 155   AIC:                             150.0\n",
              "Df Residuals:                     153   BIC:                             156.1\n",
              "Df Model:                           1                                         \n",
              "Covariance Type:            nonrobust                                         \n",
              "==============================================================================\n",
              "                 coef    std err          t      P>|t|      [0.025      0.975]\n",
              "------------------------------------------------------------------------------\n",
              "const         -0.1304      0.031     -4.161      0.000      -0.192      -0.069\n",
              "Fuel_Type     -0.1168      0.031     -3.781      0.000      -0.178      -0.056\n",
              "==============================================================================\n",
              "Omnibus:                        4.666   Durbin-Watson:                   1.137\n",
              "Prob(Omnibus):                  0.097   Jarque-Bera (JB):                4.291\n",
              "Skew:                           0.339   Prob(JB):                        0.117\n",
              "Kurtosis:                       2.549   Cond. No.                         1.03\n",
              "==============================================================================\n",
              "\n",
              "Notes:\n",
              "[1] Standard Errors assume that the covariance matrix of the errors is correctly specified.\n",
              "\"\"\""
            ],
            "text/html": [
              "<table class=\"simpletable\">\n",
              "<caption>OLS Regression Results</caption>\n",
              "<tr>\n",
              "  <th>Dep. Variable:</th>      <td>Selling_Price</td>  <th>  R-squared:         </th> <td>   0.085</td>\n",
              "</tr>\n",
              "<tr>\n",
              "  <th>Model:</th>                   <td>OLS</td>       <th>  Adj. R-squared:    </th> <td>   0.079</td>\n",
              "</tr>\n",
              "<tr>\n",
              "  <th>Method:</th>             <td>Least Squares</td>  <th>  F-statistic:       </th> <td>   14.30</td>\n",
              "</tr>\n",
              "<tr>\n",
              "  <th>Date:</th>             <td>Sun, 26 Nov 2023</td> <th>  Prob (F-statistic):</th> <td>0.000223</td>\n",
              "</tr>\n",
              "<tr>\n",
              "  <th>Time:</th>                 <td>09:58:29</td>     <th>  Log-Likelihood:    </th> <td> -73.018</td>\n",
              "</tr>\n",
              "<tr>\n",
              "  <th>No. Observations:</th>      <td>   155</td>      <th>  AIC:               </th> <td>   150.0</td>\n",
              "</tr>\n",
              "<tr>\n",
              "  <th>Df Residuals:</th>          <td>   153</td>      <th>  BIC:               </th> <td>   156.1</td>\n",
              "</tr>\n",
              "<tr>\n",
              "  <th>Df Model:</th>              <td>     1</td>      <th>                     </th>     <td> </td>   \n",
              "</tr>\n",
              "<tr>\n",
              "  <th>Covariance Type:</th>      <td>nonrobust</td>    <th>                     </th>     <td> </td>   \n",
              "</tr>\n",
              "</table>\n",
              "<table class=\"simpletable\">\n",
              "<tr>\n",
              "      <td></td>         <th>coef</th>     <th>std err</th>      <th>t</th>      <th>P>|t|</th>  <th>[0.025</th>    <th>0.975]</th>  \n",
              "</tr>\n",
              "<tr>\n",
              "  <th>const</th>     <td>   -0.1304</td> <td>    0.031</td> <td>   -4.161</td> <td> 0.000</td> <td>   -0.192</td> <td>   -0.069</td>\n",
              "</tr>\n",
              "<tr>\n",
              "  <th>Fuel_Type</th> <td>   -0.1168</td> <td>    0.031</td> <td>   -3.781</td> <td> 0.000</td> <td>   -0.178</td> <td>   -0.056</td>\n",
              "</tr>\n",
              "</table>\n",
              "<table class=\"simpletable\">\n",
              "<tr>\n",
              "  <th>Omnibus:</th>       <td> 4.666</td> <th>  Durbin-Watson:     </th> <td>   1.137</td>\n",
              "</tr>\n",
              "<tr>\n",
              "  <th>Prob(Omnibus):</th> <td> 0.097</td> <th>  Jarque-Bera (JB):  </th> <td>   4.291</td>\n",
              "</tr>\n",
              "<tr>\n",
              "  <th>Skew:</th>          <td> 0.339</td> <th>  Prob(JB):          </th> <td>   0.117</td>\n",
              "</tr>\n",
              "<tr>\n",
              "  <th>Kurtosis:</th>      <td> 2.549</td> <th>  Cond. No.          </th> <td>    1.03</td>\n",
              "</tr>\n",
              "</table><br/><br/>Notes:<br/>[1] Standard Errors assume that the covariance matrix of the errors is correctly specified."
            ],
            "text/latex": "\\begin{center}\n\\begin{tabular}{lclc}\n\\toprule\n\\textbf{Dep. Variable:}    &  Selling\\_Price  & \\textbf{  R-squared:         } &     0.085   \\\\\n\\textbf{Model:}            &       OLS        & \\textbf{  Adj. R-squared:    } &     0.079   \\\\\n\\textbf{Method:}           &  Least Squares   & \\textbf{  F-statistic:       } &     14.30   \\\\\n\\textbf{Date:}             & Sun, 26 Nov 2023 & \\textbf{  Prob (F-statistic):} &  0.000223   \\\\\n\\textbf{Time:}             &     09:58:29     & \\textbf{  Log-Likelihood:    } &   -73.018   \\\\\n\\textbf{No. Observations:} &         155      & \\textbf{  AIC:               } &     150.0   \\\\\n\\textbf{Df Residuals:}     &         153      & \\textbf{  BIC:               } &     156.1   \\\\\n\\textbf{Df Model:}         &           1      & \\textbf{                     } &             \\\\\n\\textbf{Covariance Type:}  &    nonrobust     & \\textbf{                     } &             \\\\\n\\bottomrule\n\\end{tabular}\n\\begin{tabular}{lcccccc}\n                    & \\textbf{coef} & \\textbf{std err} & \\textbf{t} & \\textbf{P$> |$t$|$} & \\textbf{[0.025} & \\textbf{0.975]}  \\\\\n\\midrule\n\\textbf{const}      &      -0.1304  &        0.031     &    -4.161  &         0.000        &       -0.192    &       -0.069     \\\\\n\\textbf{Fuel\\_Type} &      -0.1168  &        0.031     &    -3.781  &         0.000        &       -0.178    &       -0.056     \\\\\n\\bottomrule\n\\end{tabular}\n\\begin{tabular}{lclc}\n\\textbf{Omnibus:}       &  4.666 & \\textbf{  Durbin-Watson:     } &    1.137  \\\\\n\\textbf{Prob(Omnibus):} &  0.097 & \\textbf{  Jarque-Bera (JB):  } &    4.291  \\\\\n\\textbf{Skew:}          &  0.339 & \\textbf{  Prob(JB):          } &    0.117  \\\\\n\\textbf{Kurtosis:}      &  2.549 & \\textbf{  Cond. No.          } &     1.03  \\\\\n\\bottomrule\n\\end{tabular}\n%\\caption{OLS Regression Results}\n\\end{center}\n\nNotes: \\newline\n [1] Standard Errors assume that the covariance matrix of the errors is correctly specified."
          },
          "metadata": {},
          "execution_count": 68
        }
      ],
      "source": [
        "x=df_filtered[\"Fuel_Type\"]\n",
        "y=df_filtered[\"Selling_Price\"]\n",
        "\n",
        "x_c=sm.add_constant(x)\n",
        "ols_model=sm.OLS(y,x_c).fit()\n",
        "ols_model.summary()"
      ]
    },
    {
      "cell_type": "code",
      "source": [
        "sns.boxenplot(y=df[\"Selling_Price\"], x=df[\"Fuel_Type\"])\n",
        "plt.title('Box Plot')\n",
        "plt.xlabel('Fuel_Type')\n",
        "plt.ylabel('Selling_Price')\n",
        "plt.show()"
      ],
      "metadata": {
        "colab": {
          "base_uri": "https://localhost:8080/",
          "height": 480
        },
        "id": "xFvhUMR_Elql",
        "outputId": "8a91a42c-d903-4093-bab2-643800d37669"
      },
      "execution_count": 70,
      "outputs": [
        {
          "output_type": "display_data",
          "data": {
            "text/plain": [
              "<Figure size 640x480 with 1 Axes>"
            ],
            "image/png": "[encoded data removed]"
          },
          "metadata": {}
        }
      ]
    },
    {
      "cell_type": "markdown",
      "metadata": {
        "id": "rQ-57z2MLzAM"
      },
      "source": [
        "<table align=\"left\">\n",
        "    <tr>\n",
        "        <td width=\"6%\">\n",
        "            <img src=\"question_icon.png\">\n",
        "        </td>\n",
        "        <td>\n",
        "            <div align=\"left\", style=\"font-size:120%\">\n",
        "                <font color=\"#21618C\">\n",
        "                    <b>7. Does the model significantly explain variation in the target variable? Justify your answer with analysis of variation\n",
        "                    </b>\n",
        "                </font>\n",
        "            </div>\n",
        "        </td>\n",
        "    </tr>\n",
        "</table>"
      ]
    },
    {
      "cell_type": "markdown",
      "metadata": {
        "id": "v1JzsaEmLzAQ"
      },
      "source": [
        "            Regress the selling price over the transmission.\n",
        "            \n",
        "            Selling_Price ~ Transmission"
      ]
    },
    {
      "cell_type": "code",
      "execution_count": 73,
      "metadata": {
        "id": "DLQhwFdULzAV",
        "colab": {
          "base_uri": "https://localhost:8080/"
        },
        "outputId": "fdb57781-121d-4d25-fb2f-7b2117627fd4"
      },
      "outputs": [
        {
          "output_type": "stream",
          "name": "stdout",
          "text": [
            "                            OLS Regression Results                            \n",
            "==============================================================================\n",
            "Dep. Variable:          Selling_Price   R-squared:                       0.043\n",
            "Model:                            OLS   Adj. R-squared:                  0.037\n",
            "Method:                 Least Squares   F-statistic:                     6.889\n",
            "Date:                Sun, 26 Nov 2023   Prob (F-statistic):            0.00955\n",
            "Time:                        10:10:32   Log-Likelihood:                -76.527\n",
            "No. Observations:                 155   AIC:                             157.1\n",
            "Df Residuals:                     153   BIC:                             163.1\n",
            "Df Model:                           1                                         \n",
            "Covariance Type:            nonrobust                                         \n",
            "================================================================================\n",
            "                   coef    std err          t      P>|t|      [0.025      0.975]\n",
            "--------------------------------------------------------------------------------\n",
            "const           -0.1070      0.034     -3.180      0.002      -0.173      -0.041\n",
            "Transmission    -0.1221      0.047     -2.625      0.010      -0.214      -0.030\n",
            "==============================================================================\n",
            "Omnibus:                        4.603   Durbin-Watson:                   1.118\n",
            "Prob(Omnibus):                  0.100   Jarque-Bera (JB):                4.686\n",
            "Skew:                           0.405   Prob(JB):                       0.0961\n",
            "Kurtosis:                       2.737   Cond. No.                         1.58\n",
            "==============================================================================\n",
            "\n",
            "Notes:\n",
            "[1] Standard Errors assume that the covariance matrix of the errors is correctly specified.\n"
          ]
        }
      ],
      "source": [
        "# Null Hypothesis (H0): The coefficient of the Transmission variable is zero (i.e., there is no significant relationship between Transmission and Selling_Price).\n",
        "\n",
        "# Alternative Hypothesis (H1): The coefficient of the Transmission variable is not zero (there is a significant relationship).\n",
        "\n",
        "\n",
        "\n",
        "\n",
        "x=df_filtered[\"Transmission\"]\n",
        "y=df_filtered[\"Selling_Price\"]\n",
        "\n",
        "x_c=sm.add_constant(x)\n",
        "ols_model=sm.OLS(y,x_c).fit()\n",
        "print(ols_model.summary())\n",
        "\n",
        "\n",
        "\n",
        "\n",
        "# have the evidence to reject the null hypothesis and conclude that the model significantly explains variation in Selling_Price based on the transmission type."
      ]
    },
    {
      "cell_type": "markdown",
      "metadata": {
        "id": "JPfP_2aOLzAW"
      },
      "source": [
        "<table align=\"left\">\n",
        "    <tr>\n",
        "        <td width=\"6%\">\n",
        "            <img src=\"question_icon.png\">\n",
        "        </td>\n",
        "        <td>\n",
        "            <div align=\"left\", style=\"font-size:120%\">\n",
        "                <font color=\"#21618C\">\n",
        "                    <b>8. Regress the selling price over the present price. Compare the 99% and 95% confidence interval of present price of a car\n",
        "                    </b>\n",
        "                </font>\n",
        "            </div>\n",
        "        </td>\n",
        "    </tr>\n",
        "</table>"
      ]
    },
    {
      "cell_type": "code",
      "execution_count": 75,
      "metadata": {
        "id": "cw8zoyXpLzAY",
        "colab": {
          "base_uri": "https://localhost:8080/"
        },
        "outputId": "a01cd381-6844-43ea-af4c-2c95ba0508df"
      },
      "outputs": [
        {
          "output_type": "stream",
          "name": "stdout",
          "text": [
            "                            OLS Regression Results                            \n",
            "==============================================================================\n",
            "Dep. Variable:          Selling_Price   R-squared:                       0.686\n",
            "Model:                            OLS   Adj. R-squared:                  0.684\n",
            "Method:                 Least Squares   F-statistic:                     333.8\n",
            "Date:                Sun, 26 Nov 2023   Prob (F-statistic):           2.73e-40\n",
            "Time:                        10:13:03   Log-Likelihood:                 9.7591\n",
            "No. Observations:                 155   AIC:                            -15.52\n",
            "Df Residuals:                     153   BIC:                            -9.431\n",
            "Df Model:                           1                                         \n",
            "Covariance Type:            nonrobust                                         \n",
            "=================================================================================\n",
            "                    coef    std err          t      P>|t|      [0.025      0.975]\n",
            "---------------------------------------------------------------------------------\n",
            "const             0.0790      0.022      3.632      0.000       0.036       0.122\n",
            "Present_Price     1.1186      0.061     18.270      0.000       0.998       1.240\n",
            "==============================================================================\n",
            "Omnibus:                        4.047   Durbin-Watson:                   1.864\n",
            "Prob(Omnibus):                  0.132   Jarque-Bera (JB):                4.451\n",
            "Skew:                          -0.160   Prob(JB):                        0.108\n",
            "Kurtosis:                       3.766   Cond. No.                         3.47\n",
            "==============================================================================\n",
            "\n",
            "Notes:\n",
            "[1] Standard Errors assume that the covariance matrix of the errors is correctly specified.\n"
          ]
        }
      ],
      "source": [
        "# Null Hypothesis (H0):  there is no significant relationship between Present_price and Selling_Price.\n",
        "\n",
        "# Alternative Hypothesis (H1): there is a significant relationship between Present_price and Selling_Price.\n",
        "\n",
        "\n",
        "x=df_filtered[\"Present_Price\"]\n",
        "y=df_filtered[\"Selling_Price\"]\n",
        "\n",
        "x_c=sm.add_constant(x)\n",
        "ols_model=sm.OLS(y,x_c).fit()\n",
        "print(ols_model.summary())\n",
        "\n",
        "\n",
        "\n",
        "# summary : Failed to reject NULL hypothesis  : there is no significant relationship between Present_price and Selling_Price\n"
      ]
    },
    {
      "cell_type": "code",
      "source": [
        "# Extract the confidence intervals\n",
        "confidence_intervals_95 = ols_model.conf_int(alpha=0.05)\n",
        "confidence_intervals_99 = ols_model.conf_int(alpha=0.01)\n",
        "\n",
        "print(\"95% Confidence Interval:\", confidence_intervals_95.loc['Present_Price'].tolist())\n",
        "print(\"99% Confidence Interval:\", confidence_intervals_99.loc['Present_Price'].tolist())\n"
      ],
      "metadata": {
        "colab": {
          "base_uri": "https://localhost:8080/"
        },
        "id": "7V8-e0JHIG4X",
        "outputId": "d6eb7b65-8824-4f78-bdef-c1659506b82b"
      },
      "execution_count": 76,
      "outputs": [
        {
          "output_type": "stream",
          "name": "stdout",
          "text": [
            "95% Confidence Interval: [0.9976581978770199, 1.2395738218820271]\n",
            "99% Confidence Interval: [0.9589170925610067, 1.2783149271980403]\n"
          ]
        }
      ]
    },
    {
      "cell_type": "markdown",
      "metadata": {
        "id": "ep3mt7kKLzAY"
      },
      "source": [
        "<table align=\"left\">\n",
        "    <tr>\n",
        "        <td width=\"6%\">\n",
        "            <img src=\"question_icon.png\">\n",
        "        </td>\n",
        "        <td>\n",
        "            <div align=\"left\", style=\"font-size:120%\">\n",
        "                <font color=\"#21618C\">\n",
        "                        <b>9. Verify the statement: The sum of the residuals in any regression model that contains an intercept β<sub>0</sub> is always zero\n",
        "                    </b>\n",
        "                </font>\n",
        "            </div>\n",
        "        </td>\n",
        "    </tr>\n",
        "</table>"
      ]
    },
    {
      "cell_type": "markdown",
      "metadata": {
        "id": "I5yu1x_pLzAa"
      },
      "source": [
        "        To verify the result, we will fit a regression model of 'Present_Price' on 'Selling_Price'"
      ]
    },
    {
      "cell_type": "code",
      "source": [
        "x=df_filtered.drop(\"Selling_Price\",axis=1)\n",
        "y=df_filtered['Selling_Price']\n",
        "x_c=sm.add_constant(x)\n",
        "ols_model=sm.OLS(y,x_c).fit()\n",
        "ols_model.summary()"
      ],
      "metadata": {
        "colab": {
          "base_uri": "https://localhost:8080/",
          "height": 577
        },
        "id": "_cgZRHk7JKkR",
        "outputId": "c4836851-f8e0-4b6b-acf4-c6a4fadfea93"
      },
      "execution_count": 80,
      "outputs": [
        {
          "output_type": "execute_result",
          "data": {
            "text/plain": [
              "<class 'statsmodels.iolib.summary.Summary'>\n",
              "\"\"\"\n",
              "                            OLS Regression Results                            \n",
              "==============================================================================\n",
              "Dep. Variable:          Selling_Price   R-squared:                       0.863\n",
              "Model:                            OLS   Adj. R-squared:                  0.856\n",
              "Method:                 Least Squares   F-statistic:                     115.0\n",
              "Date:                Sun, 26 Nov 2023   Prob (F-statistic):           4.30e-59\n",
              "Time:                        10:22:23   Log-Likelihood:                 74.123\n",
              "No. Observations:                 155   AIC:                            -130.2\n",
              "Df Residuals:                     146   BIC:                            -102.9\n",
              "Df Model:                           8                                         \n",
              "Covariance Type:            nonrobust                                         \n",
              "=================================================================================\n",
              "                    coef    std err          t      P>|t|      [0.025      0.975]\n",
              "---------------------------------------------------------------------------------\n",
              "const             0.0415      0.025      1.636      0.104      -0.009       0.092\n",
              "Car_Name         -0.0045      0.028     -0.158      0.875      -0.061       0.052\n",
              "Year              0.1673      0.019      8.698      0.000       0.129       0.205\n",
              "Present_Price     1.0592      0.070     15.099      0.000       0.921       1.198\n",
              "Kms_Driven       -0.0609      0.035     -1.757      0.081      -0.129       0.008\n",
              "Fuel_Type        -0.0180      0.014     -1.273      0.205      -0.046       0.010\n",
              "Seller_Type      -0.0337      0.028     -1.191      0.236      -0.090       0.022\n",
              "Transmission     -0.0288      0.019     -1.533      0.127      -0.066       0.008\n",
              "Owner            -0.0094      0.017     -0.539      0.591      -0.044       0.025\n",
              "==============================================================================\n",
              "Omnibus:                       16.250   Durbin-Watson:                   1.746\n",
              "Prob(Omnibus):                  0.000   Jarque-Bera (JB):               19.430\n",
              "Skew:                           0.687   Prob(JB):                     6.04e-05\n",
              "Kurtosis:                       4.058   Cond. No.                         8.18\n",
              "==============================================================================\n",
              "\n",
              "Notes:\n",
              "[1] Standard Errors assume that the covariance matrix of the errors is correctly specified.\n",
              "\"\"\""
            ],
            "text/html": [
              "<table class=\"simpletable\">\n",
              "<caption>OLS Regression Results</caption>\n",
              "<tr>\n",
              "  <th>Dep. Variable:</th>      <td>Selling_Price</td>  <th>  R-squared:         </th> <td>   0.863</td>\n",
              "</tr>\n",
              "<tr>\n",
              "  <th>Model:</th>                   <td>OLS</td>       <th>  Adj. R-squared:    </th> <td>   0.856</td>\n",
              "</tr>\n",
              "<tr>\n",
              "  <th>Method:</th>             <td>Least Squares</td>  <th>  F-statistic:       </th> <td>   115.0</td>\n",
              "</tr>\n",
              "<tr>\n",
              "  <th>Date:</th>             <td>Sun, 26 Nov 2023</td> <th>  Prob (F-statistic):</th> <td>4.30e-59</td>\n",
              "</tr>\n",
              "<tr>\n",
              "  <th>Time:</th>                 <td>10:22:23</td>     <th>  Log-Likelihood:    </th> <td>  74.123</td>\n",
              "</tr>\n",
              "<tr>\n",
              "  <th>No. Observations:</th>      <td>   155</td>      <th>  AIC:               </th> <td>  -130.2</td>\n",
              "</tr>\n",
              "<tr>\n",
              "  <th>Df Residuals:</th>          <td>   146</td>      <th>  BIC:               </th> <td>  -102.9</td>\n",
              "</tr>\n",
              "<tr>\n",
              "  <th>Df Model:</th>              <td>     8</td>      <th>                     </th>     <td> </td>   \n",
              "</tr>\n",
              "<tr>\n",
              "  <th>Covariance Type:</th>      <td>nonrobust</td>    <th>                     </th>     <td> </td>   \n",
              "</tr>\n",
              "</table>\n",
              "<table class=\"simpletable\">\n",
              "<tr>\n",
              "        <td></td>           <th>coef</th>     <th>std err</th>      <th>t</th>      <th>P>|t|</th>  <th>[0.025</th>    <th>0.975]</th>  \n",
              "</tr>\n",
              "<tr>\n",
              "  <th>const</th>         <td>    0.0415</td> <td>    0.025</td> <td>    1.636</td> <td> 0.104</td> <td>   -0.009</td> <td>    0.092</td>\n",
              "</tr>\n",
              "<tr>\n",
              "  <th>Car_Name</th>      <td>   -0.0045</td> <td>    0.028</td> <td>   -0.158</td> <td> 0.875</td> <td>   -0.061</td> <td>    0.052</td>\n",
              "</tr>\n",
              "<tr>\n",
              "  <th>Year</th>          <td>    0.1673</td> <td>    0.019</td> <td>    8.698</td> <td> 0.000</td> <td>    0.129</td> <td>    0.205</td>\n",
              "</tr>\n",
              "<tr>\n",
              "  <th>Present_Price</th> <td>    1.0592</td> <td>    0.070</td> <td>   15.099</td> <td> 0.000</td> <td>    0.921</td> <td>    1.198</td>\n",
              "</tr>\n",
              "<tr>\n",
              "  <th>Kms_Driven</th>    <td>   -0.0609</td> <td>    0.035</td> <td>   -1.757</td> <td> 0.081</td> <td>   -0.129</td> <td>    0.008</td>\n",
              "</tr>\n",
              "<tr>\n",
              "  <th>Fuel_Type</th>     <td>   -0.0180</td> <td>    0.014</td> <td>   -1.273</td> <td> 0.205</td> <td>   -0.046</td> <td>    0.010</td>\n",
              "</tr>\n",
              "<tr>\n",
              "  <th>Seller_Type</th>   <td>   -0.0337</td> <td>    0.028</td> <td>   -1.191</td> <td> 0.236</td> <td>   -0.090</td> <td>    0.022</td>\n",
              "</tr>\n",
              "<tr>\n",
              "  <th>Transmission</th>  <td>   -0.0288</td> <td>    0.019</td> <td>   -1.533</td> <td> 0.127</td> <td>   -0.066</td> <td>    0.008</td>\n",
              "</tr>\n",
              "<tr>\n",
              "  <th>Owner</th>         <td>   -0.0094</td> <td>    0.017</td> <td>   -0.539</td> <td> 0.591</td> <td>   -0.044</td> <td>    0.025</td>\n",
              "</tr>\n",
              "</table>\n",
              "<table class=\"simpletable\">\n",
              "<tr>\n",
              "  <th>Omnibus:</th>       <td>16.250</td> <th>  Durbin-Watson:     </th> <td>   1.746</td>\n",
              "</tr>\n",
              "<tr>\n",
              "  <th>Prob(Omnibus):</th> <td> 0.000</td> <th>  Jarque-Bera (JB):  </th> <td>  19.430</td>\n",
              "</tr>\n",
              "<tr>\n",
              "  <th>Skew:</th>          <td> 0.687</td> <th>  Prob(JB):          </th> <td>6.04e-05</td>\n",
              "</tr>\n",
              "<tr>\n",
              "  <th>Kurtosis:</th>      <td> 4.058</td> <th>  Cond. No.          </th> <td>    8.18</td>\n",
              "</tr>\n",
              "</table><br/><br/>Notes:<br/>[1] Standard Errors assume that the covariance matrix of the errors is correctly specified."
            ],
            "text/latex": "\\begin{center}\n\\begin{tabular}{lclc}\n\\toprule\n\\textbf{Dep. Variable:}    &  Selling\\_Price  & \\textbf{  R-squared:         } &     0.863   \\\\\n\\textbf{Model:}            &       OLS        & \\textbf{  Adj. R-squared:    } &     0.856   \\\\\n\\textbf{Method:}           &  Least Squares   & \\textbf{  F-statistic:       } &     115.0   \\\\\n\\textbf{Date:}             & Sun, 26 Nov 2023 & \\textbf{  Prob (F-statistic):} &  4.30e-59   \\\\\n\\textbf{Time:}             &     10:22:23     & \\textbf{  Log-Likelihood:    } &    74.123   \\\\\n\\textbf{No. Observations:} &         155      & \\textbf{  AIC:               } &    -130.2   \\\\\n\\textbf{Df Residuals:}     &         146      & \\textbf{  BIC:               } &    -102.9   \\\\\n\\textbf{Df Model:}         &           8      & \\textbf{                     } &             \\\\\n\\textbf{Covariance Type:}  &    nonrobust     & \\textbf{                     } &             \\\\\n\\bottomrule\n\\end{tabular}\n\\begin{tabular}{lcccccc}\n                        & \\textbf{coef} & \\textbf{std err} & \\textbf{t} & \\textbf{P$> |$t$|$} & \\textbf{[0.025} & \\textbf{0.975]}  \\\\\n\\midrule\n\\textbf{const}          &       0.0415  &        0.025     &     1.636  &         0.104        &       -0.009    &        0.092     \\\\\n\\textbf{Car\\_Name}      &      -0.0045  &        0.028     &    -0.158  &         0.875        &       -0.061    &        0.052     \\\\\n\\textbf{Year}           &       0.1673  &        0.019     &     8.698  &         0.000        &        0.129    &        0.205     \\\\\n\\textbf{Present\\_Price} &       1.0592  &        0.070     &    15.099  &         0.000        &        0.921    &        1.198     \\\\\n\\textbf{Kms\\_Driven}    &      -0.0609  &        0.035     &    -1.757  &         0.081        &       -0.129    &        0.008     \\\\\n\\textbf{Fuel\\_Type}     &      -0.0180  &        0.014     &    -1.273  &         0.205        &       -0.046    &        0.010     \\\\\n\\textbf{Seller\\_Type}   &      -0.0337  &        0.028     &    -1.191  &         0.236        &       -0.090    &        0.022     \\\\\n\\textbf{Transmission}   &      -0.0288  &        0.019     &    -1.533  &         0.127        &       -0.066    &        0.008     \\\\\n\\textbf{Owner}          &      -0.0094  &        0.017     &    -0.539  &         0.591        &       -0.044    &        0.025     \\\\\n\\bottomrule\n\\end{tabular}\n\\begin{tabular}{lclc}\n\\textbf{Omnibus:}       & 16.250 & \\textbf{  Durbin-Watson:     } &    1.746  \\\\\n\\textbf{Prob(Omnibus):} &  0.000 & \\textbf{  Jarque-Bera (JB):  } &   19.430  \\\\\n\\textbf{Skew:}          &  0.687 & \\textbf{  Prob(JB):          } & 6.04e-05  \\\\\n\\textbf{Kurtosis:}      &  4.058 & \\textbf{  Cond. No.          } &     8.18  \\\\\n\\bottomrule\n\\end{tabular}\n%\\caption{OLS Regression Results}\n\\end{center}\n\nNotes: \\newline\n [1] Standard Errors assume that the covariance matrix of the errors is correctly specified."
          },
          "metadata": {},
          "execution_count": 80
        }
      ]
    },
    {
      "cell_type": "code",
      "execution_count": 85,
      "metadata": {
        "id": "PgGggC9CLzAb",
        "colab": {
          "base_uri": "https://localhost:8080/"
        },
        "outputId": "c114452b-ab46-46c0-beae-f33acb595a41"
      },
      "outputs": [
        {
          "output_type": "execute_result",
          "data": {
            "text/plain": [
              "-1.6431300764452317e-14"
            ]
          },
          "metadata": {},
          "execution_count": 85
        }
      ],
      "source": [
        "np.sum(df_filtered['Selling_Price'] - ols_model.predict())\n",
        "\n",
        "# approx 0"
      ]
    },
    {
      "cell_type": "markdown",
      "metadata": {
        "id": "0dWKYbVQLzAc"
      },
      "source": [
        "<table align=\"left\">\n",
        "    <tr>\n",
        "        <td width=\"6%\">\n",
        "            <img src=\"question_icon.png\">\n",
        "        </td>\n",
        "        <td>\n",
        "            <div align=\"left\", style=\"font-size:120%\">\n",
        "                <font color=\"#21618C\">\n",
        "                    <b>10. Consider two models as specified below. Compare the performance of the models\n",
        "                    </b>\n",
        "                </font>\n",
        "            </div>\n",
        "        </td>\n",
        "    </tr>\n",
        "</table>"
      ]
    },
    {
      "cell_type": "markdown",
      "metadata": {
        "id": "VlpY1K8ALzAd"
      },
      "source": [
        "                First model:\n",
        "        \n",
        "        Selling_Price ~ Year + Present_Price + Kms_Driven + Owner + Fuel_Type + Seller_Type + Transmission\n",
        "        \n",
        "        \n",
        "                Second model:\n",
        "        \n",
        "        Selling_Price ~ Year + Present_Price + Kms_Driven + Owner"
      ]
    },
    {
      "cell_type": "markdown",
      "source": [
        "1 . MODEL 1 : Year + Present_Price + Kms_Driven + Owner + Fuel_Type + Seller_Type + Transmission"
      ],
      "metadata": {
        "id": "vqPXIIlXKQjD"
      }
    },
    {
      "cell_type": "code",
      "execution_count": 86,
      "metadata": {
        "id": "jNEYswd-LzAe",
        "colab": {
          "base_uri": "https://localhost:8080/",
          "height": 557
        },
        "outputId": "81af7007-2a37-4bf5-efc9-a40ca0fc5312"
      },
      "outputs": [
        {
          "output_type": "execute_result",
          "data": {
            "text/plain": [
              "<class 'statsmodels.iolib.summary.Summary'>\n",
              "\"\"\"\n",
              "                            OLS Regression Results                            \n",
              "==============================================================================\n",
              "Dep. Variable:          Selling_Price   R-squared:                       0.863\n",
              "Model:                            OLS   Adj. R-squared:                  0.856\n",
              "Method:                 Least Squares   F-statistic:                     132.3\n",
              "Date:                Sun, 26 Nov 2023   Prob (F-statistic):           3.65e-60\n",
              "Time:                        10:26:39   Log-Likelihood:                 74.109\n",
              "No. Observations:                 155   AIC:                            -132.2\n",
              "Df Residuals:                     147   BIC:                            -107.9\n",
              "Df Model:                           7                                         \n",
              "Covariance Type:            nonrobust                                         \n",
              "=================================================================================\n",
              "                    coef    std err          t      P>|t|      [0.025      0.975]\n",
              "---------------------------------------------------------------------------------\n",
              "const             0.0400      0.023      1.709      0.090      -0.006       0.086\n",
              "Year              0.1678      0.019      8.874      0.000       0.130       0.205\n",
              "Present_Price     1.0566      0.068     15.552      0.000       0.922       1.191\n",
              "Kms_Driven       -0.0600      0.034     -1.760      0.081      -0.127       0.007\n",
              "Owner            -0.0095      0.017     -0.548      0.584      -0.044       0.025\n",
              "Fuel_Type        -0.0177      0.014     -1.269      0.207      -0.045       0.010\n",
              "Seller_Type      -0.0313      0.024     -1.320      0.189      -0.078       0.016\n",
              "Transmission     -0.0289      0.019     -1.547      0.124      -0.066       0.008\n",
              "==============================================================================\n",
              "Omnibus:                       16.995   Durbin-Watson:                   1.748\n",
              "Prob(Omnibus):                  0.000   Jarque-Bera (JB):               20.746\n",
              "Skew:                           0.702   Prob(JB):                     3.13e-05\n",
              "Kurtosis:                       4.115   Cond. No.                         6.82\n",
              "==============================================================================\n",
              "\n",
              "Notes:\n",
              "[1] Standard Errors assume that the covariance matrix of the errors is correctly specified.\n",
              "\"\"\""
            ],
            "text/html": [
              "<table class=\"simpletable\">\n",
              "<caption>OLS Regression Results</caption>\n",
              "<tr>\n",
              "  <th>Dep. Variable:</th>      <td>Selling_Price</td>  <th>  R-squared:         </th> <td>   0.863</td>\n",
              "</tr>\n",
              "<tr>\n",
              "  <th>Model:</th>                   <td>OLS</td>       <th>  Adj. R-squared:    </th> <td>   0.856</td>\n",
              "</tr>\n",
              "<tr>\n",
              "  <th>Method:</th>             <td>Least Squares</td>  <th>  F-statistic:       </th> <td>   132.3</td>\n",
              "</tr>\n",
              "<tr>\n",
              "  <th>Date:</th>             <td>Sun, 26 Nov 2023</td> <th>  Prob (F-statistic):</th> <td>3.65e-60</td>\n",
              "</tr>\n",
              "<tr>\n",
              "  <th>Time:</th>                 <td>10:26:39</td>     <th>  Log-Likelihood:    </th> <td>  74.109</td>\n",
              "</tr>\n",
              "<tr>\n",
              "  <th>No. Observations:</th>      <td>   155</td>      <th>  AIC:               </th> <td>  -132.2</td>\n",
              "</tr>\n",
              "<tr>\n",
              "  <th>Df Residuals:</th>          <td>   147</td>      <th>  BIC:               </th> <td>  -107.9</td>\n",
              "</tr>\n",
              "<tr>\n",
              "  <th>Df Model:</th>              <td>     7</td>      <th>                     </th>     <td> </td>   \n",
              "</tr>\n",
              "<tr>\n",
              "  <th>Covariance Type:</th>      <td>nonrobust</td>    <th>                     </th>     <td> </td>   \n",
              "</tr>\n",
              "</table>\n",
              "<table class=\"simpletable\">\n",
              "<tr>\n",
              "        <td></td>           <th>coef</th>     <th>std err</th>      <th>t</th>      <th>P>|t|</th>  <th>[0.025</th>    <th>0.975]</th>  \n",
              "</tr>\n",
              "<tr>\n",
              "  <th>const</th>         <td>    0.0400</td> <td>    0.023</td> <td>    1.709</td> <td> 0.090</td> <td>   -0.006</td> <td>    0.086</td>\n",
              "</tr>\n",
              "<tr>\n",
              "  <th>Year</th>          <td>    0.1678</td> <td>    0.019</td> <td>    8.874</td> <td> 0.000</td> <td>    0.130</td> <td>    0.205</td>\n",
              "</tr>\n",
              "<tr>\n",
              "  <th>Present_Price</th> <td>    1.0566</td> <td>    0.068</td> <td>   15.552</td> <td> 0.000</td> <td>    0.922</td> <td>    1.191</td>\n",
              "</tr>\n",
              "<tr>\n",
              "  <th>Kms_Driven</th>    <td>   -0.0600</td> <td>    0.034</td> <td>   -1.760</td> <td> 0.081</td> <td>   -0.127</td> <td>    0.007</td>\n",
              "</tr>\n",
              "<tr>\n",
              "  <th>Owner</th>         <td>   -0.0095</td> <td>    0.017</td> <td>   -0.548</td> <td> 0.584</td> <td>   -0.044</td> <td>    0.025</td>\n",
              "</tr>\n",
              "<tr>\n",
              "  <th>Fuel_Type</th>     <td>   -0.0177</td> <td>    0.014</td> <td>   -1.269</td> <td> 0.207</td> <td>   -0.045</td> <td>    0.010</td>\n",
              "</tr>\n",
              "<tr>\n",
              "  <th>Seller_Type</th>   <td>   -0.0313</td> <td>    0.024</td> <td>   -1.320</td> <td> 0.189</td> <td>   -0.078</td> <td>    0.016</td>\n",
              "</tr>\n",
              "<tr>\n",
              "  <th>Transmission</th>  <td>   -0.0289</td> <td>    0.019</td> <td>   -1.547</td> <td> 0.124</td> <td>   -0.066</td> <td>    0.008</td>\n",
              "</tr>\n",
              "</table>\n",
              "<table class=\"simpletable\">\n",
              "<tr>\n",
              "  <th>Omnibus:</th>       <td>16.995</td> <th>  Durbin-Watson:     </th> <td>   1.748</td>\n",
              "</tr>\n",
              "<tr>\n",
              "  <th>Prob(Omnibus):</th> <td> 0.000</td> <th>  Jarque-Bera (JB):  </th> <td>  20.746</td>\n",
              "</tr>\n",
              "<tr>\n",
              "  <th>Skew:</th>          <td> 0.702</td> <th>  Prob(JB):          </th> <td>3.13e-05</td>\n",
              "</tr>\n",
              "<tr>\n",
              "  <th>Kurtosis:</th>      <td> 4.115</td> <th>  Cond. No.          </th> <td>    6.82</td>\n",
              "</tr>\n",
              "</table><br/><br/>Notes:<br/>[1] Standard Errors assume that the covariance matrix of the errors is correctly specified."
            ],
            "text/latex": "\\begin{center}\n\\begin{tabular}{lclc}\n\\toprule\n\\textbf{Dep. Variable:}    &  Selling\\_Price  & \\textbf{  R-squared:         } &     0.863   \\\\\n\\textbf{Model:}            &       OLS        & \\textbf{  Adj. R-squared:    } &     0.856   \\\\\n\\textbf{Method:}           &  Least Squares   & \\textbf{  F-statistic:       } &     132.3   \\\\\n\\textbf{Date:}             & Sun, 26 Nov 2023 & \\textbf{  Prob (F-statistic):} &  3.65e-60   \\\\\n\\textbf{Time:}             &     10:26:39     & \\textbf{  Log-Likelihood:    } &    74.109   \\\\\n\\textbf{No. Observations:} &         155      & \\textbf{  AIC:               } &    -132.2   \\\\\n\\textbf{Df Residuals:}     &         147      & \\textbf{  BIC:               } &    -107.9   \\\\\n\\textbf{Df Model:}         &           7      & \\textbf{                     } &             \\\\\n\\textbf{Covariance Type:}  &    nonrobust     & \\textbf{                     } &             \\\\\n\\bottomrule\n\\end{tabular}\n\\begin{tabular}{lcccccc}\n                        & \\textbf{coef} & \\textbf{std err} & \\textbf{t} & \\textbf{P$> |$t$|$} & \\textbf{[0.025} & \\textbf{0.975]}  \\\\\n\\midrule\n\\textbf{const}          &       0.0400  &        0.023     &     1.709  &         0.090        &       -0.006    &        0.086     \\\\\n\\textbf{Year}           &       0.1678  &        0.019     &     8.874  &         0.000        &        0.130    &        0.205     \\\\\n\\textbf{Present\\_Price} &       1.0566  &        0.068     &    15.552  &         0.000        &        0.922    &        1.191     \\\\\n\\textbf{Kms\\_Driven}    &      -0.0600  &        0.034     &    -1.760  &         0.081        &       -0.127    &        0.007     \\\\\n\\textbf{Owner}          &      -0.0095  &        0.017     &    -0.548  &         0.584        &       -0.044    &        0.025     \\\\\n\\textbf{Fuel\\_Type}     &      -0.0177  &        0.014     &    -1.269  &         0.207        &       -0.045    &        0.010     \\\\\n\\textbf{Seller\\_Type}   &      -0.0313  &        0.024     &    -1.320  &         0.189        &       -0.078    &        0.016     \\\\\n\\textbf{Transmission}   &      -0.0289  &        0.019     &    -1.547  &         0.124        &       -0.066    &        0.008     \\\\\n\\bottomrule\n\\end{tabular}\n\\begin{tabular}{lclc}\n\\textbf{Omnibus:}       & 16.995 & \\textbf{  Durbin-Watson:     } &    1.748  \\\\\n\\textbf{Prob(Omnibus):} &  0.000 & \\textbf{  Jarque-Bera (JB):  } &   20.746  \\\\\n\\textbf{Skew:}          &  0.702 & \\textbf{  Prob(JB):          } & 3.13e-05  \\\\\n\\textbf{Kurtosis:}      &  4.115 & \\textbf{  Cond. No.          } &     6.82  \\\\\n\\bottomrule\n\\end{tabular}\n%\\caption{OLS Regression Results}\n\\end{center}\n\nNotes: \\newline\n [1] Standard Errors assume that the covariance matrix of the errors is correctly specified."
          },
          "metadata": {},
          "execution_count": 86
        }
      ],
      "source": [
        "x=df_filtered[['Year','Present_Price',\"Kms_Driven\",\"Owner\",\"Fuel_Type\",\"Seller_Type\",\"Transmission\"]]\n",
        "y=df_filtered['Selling_Price']\n",
        "x_c=sm.add_constant(x)\n",
        "ols_model=sm.OLS(y,x_c).fit()\n",
        "ols_model.summary()"
      ]
    },
    {
      "cell_type": "markdown",
      "source": [
        "2. MODEL -2 : Year + Present_Price + Kms_Driven + Owner"
      ],
      "metadata": {
        "id": "2vQizfOPKxPf"
      }
    },
    {
      "cell_type": "code",
      "source": [
        "x=df_filtered[['Year','Present_Price',\"Kms_Driven\",\"Owner\"]]\n",
        "y=df_filtered['Selling_Price']\n",
        "x_c=sm.add_constant(x)\n",
        "ols_model=sm.OLS(y,x_c).fit()\n",
        "ols_model.summary()"
      ],
      "metadata": {
        "colab": {
          "base_uri": "https://localhost:8080/",
          "height": 495
        },
        "id": "3M4gj_7BKsoW",
        "outputId": "5b27a453-a3e7-4710-dd38-291658445460"
      },
      "execution_count": 87,
      "outputs": [
        {
          "output_type": "execute_result",
          "data": {
            "text/plain": [
              "<class 'statsmodels.iolib.summary.Summary'>\n",
              "\"\"\"\n",
              "                            OLS Regression Results                            \n",
              "==============================================================================\n",
              "Dep. Variable:          Selling_Price   R-squared:                       0.859\n",
              "Model:                            OLS   Adj. R-squared:                  0.855\n",
              "Method:                 Least Squares   F-statistic:                     227.7\n",
              "Date:                Sun, 26 Nov 2023   Prob (F-statistic):           1.26e-62\n",
              "Time:                        10:27:42   Log-Likelihood:                 71.659\n",
              "No. Observations:                 155   AIC:                            -133.3\n",
              "Df Residuals:                     150   BIC:                            -118.1\n",
              "Df Model:                           4                                         \n",
              "Covariance Type:            nonrobust                                         \n",
              "=================================================================================\n",
              "                    coef    std err          t      P>|t|      [0.025      0.975]\n",
              "---------------------------------------------------------------------------------\n",
              "const             0.0622      0.015      4.198      0.000       0.033       0.091\n",
              "Year              0.1727      0.019      9.232      0.000       0.136       0.210\n",
              "Present_Price     1.1459      0.044     25.765      0.000       1.058       1.234\n",
              "Kms_Driven       -0.0440      0.033     -1.345      0.181      -0.109       0.021\n",
              "Owner            -0.0107      0.017     -0.615      0.539      -0.045       0.024\n",
              "==============================================================================\n",
              "Omnibus:                        7.884   Durbin-Watson:                   1.694\n",
              "Prob(Omnibus):                  0.019   Jarque-Bera (JB):                7.649\n",
              "Skew:                           0.482   Prob(JB):                       0.0218\n",
              "Kurtosis:                       3.504   Cond. No.                         4.15\n",
              "==============================================================================\n",
              "\n",
              "Notes:\n",
              "[1] Standard Errors assume that the covariance matrix of the errors is correctly specified.\n",
              "\"\"\""
            ],
            "text/html": [
              "<table class=\"simpletable\">\n",
              "<caption>OLS Regression Results</caption>\n",
              "<tr>\n",
              "  <th>Dep. Variable:</th>      <td>Selling_Price</td>  <th>  R-squared:         </th> <td>   0.859</td>\n",
              "</tr>\n",
              "<tr>\n",
              "  <th>Model:</th>                   <td>OLS</td>       <th>  Adj. R-squared:    </th> <td>   0.855</td>\n",
              "</tr>\n",
              "<tr>\n",
              "  <th>Method:</th>             <td>Least Squares</td>  <th>  F-statistic:       </th> <td>   227.7</td>\n",
              "</tr>\n",
              "<tr>\n",
              "  <th>Date:</th>             <td>Sun, 26 Nov 2023</td> <th>  Prob (F-statistic):</th> <td>1.26e-62</td>\n",
              "</tr>\n",
              "<tr>\n",
              "  <th>Time:</th>                 <td>10:27:42</td>     <th>  Log-Likelihood:    </th> <td>  71.659</td>\n",
              "</tr>\n",
              "<tr>\n",
              "  <th>No. Observations:</th>      <td>   155</td>      <th>  AIC:               </th> <td>  -133.3</td>\n",
              "</tr>\n",
              "<tr>\n",
              "  <th>Df Residuals:</th>          <td>   150</td>      <th>  BIC:               </th> <td>  -118.1</td>\n",
              "</tr>\n",
              "<tr>\n",
              "  <th>Df Model:</th>              <td>     4</td>      <th>                     </th>     <td> </td>   \n",
              "</tr>\n",
              "<tr>\n",
              "  <th>Covariance Type:</th>      <td>nonrobust</td>    <th>                     </th>     <td> </td>   \n",
              "</tr>\n",
              "</table>\n",
              "<table class=\"simpletable\">\n",
              "<tr>\n",
              "        <td></td>           <th>coef</th>     <th>std err</th>      <th>t</th>      <th>P>|t|</th>  <th>[0.025</th>    <th>0.975]</th>  \n",
              "</tr>\n",
              "<tr>\n",
              "  <th>const</th>         <td>    0.0622</td> <td>    0.015</td> <td>    4.198</td> <td> 0.000</td> <td>    0.033</td> <td>    0.091</td>\n",
              "</tr>\n",
              "<tr>\n",
              "  <th>Year</th>          <td>    0.1727</td> <td>    0.019</td> <td>    9.232</td> <td> 0.000</td> <td>    0.136</td> <td>    0.210</td>\n",
              "</tr>\n",
              "<tr>\n",
              "  <th>Present_Price</th> <td>    1.1459</td> <td>    0.044</td> <td>   25.765</td> <td> 0.000</td> <td>    1.058</td> <td>    1.234</td>\n",
              "</tr>\n",
              "<tr>\n",
              "  <th>Kms_Driven</th>    <td>   -0.0440</td> <td>    0.033</td> <td>   -1.345</td> <td> 0.181</td> <td>   -0.109</td> <td>    0.021</td>\n",
              "</tr>\n",
              "<tr>\n",
              "  <th>Owner</th>         <td>   -0.0107</td> <td>    0.017</td> <td>   -0.615</td> <td> 0.539</td> <td>   -0.045</td> <td>    0.024</td>\n",
              "</tr>\n",
              "</table>\n",
              "<table class=\"simpletable\">\n",
              "<tr>\n",
              "  <th>Omnibus:</th>       <td> 7.884</td> <th>  Durbin-Watson:     </th> <td>   1.694</td>\n",
              "</tr>\n",
              "<tr>\n",
              "  <th>Prob(Omnibus):</th> <td> 0.019</td> <th>  Jarque-Bera (JB):  </th> <td>   7.649</td>\n",
              "</tr>\n",
              "<tr>\n",
              "  <th>Skew:</th>          <td> 0.482</td> <th>  Prob(JB):          </th> <td>  0.0218</td>\n",
              "</tr>\n",
              "<tr>\n",
              "  <th>Kurtosis:</th>      <td> 3.504</td> <th>  Cond. No.          </th> <td>    4.15</td>\n",
              "</tr>\n",
              "</table><br/><br/>Notes:<br/>[1] Standard Errors assume that the covariance matrix of the errors is correctly specified."
            ],
            "text/latex": "\\begin{center}\n\\begin{tabular}{lclc}\n\\toprule\n\\textbf{Dep. Variable:}    &  Selling\\_Price  & \\textbf{  R-squared:         } &     0.859   \\\\\n\\textbf{Model:}            &       OLS        & \\textbf{  Adj. R-squared:    } &     0.855   \\\\\n\\textbf{Method:}           &  Least Squares   & \\textbf{  F-statistic:       } &     227.7   \\\\\n\\textbf{Date:}             & Sun, 26 Nov 2023 & \\textbf{  Prob (F-statistic):} &  1.26e-62   \\\\\n\\textbf{Time:}             &     10:27:42     & \\textbf{  Log-Likelihood:    } &    71.659   \\\\\n\\textbf{No. Observations:} &         155      & \\textbf{  AIC:               } &    -133.3   \\\\\n\\textbf{Df Residuals:}     &         150      & \\textbf{  BIC:               } &    -118.1   \\\\\n\\textbf{Df Model:}         &           4      & \\textbf{                     } &             \\\\\n\\textbf{Covariance Type:}  &    nonrobust     & \\textbf{                     } &             \\\\\n\\bottomrule\n\\end{tabular}\n\\begin{tabular}{lcccccc}\n                        & \\textbf{coef} & \\textbf{std err} & \\textbf{t} & \\textbf{P$> |$t$|$} & \\textbf{[0.025} & \\textbf{0.975]}  \\\\\n\\midrule\n\\textbf{const}          &       0.0622  &        0.015     &     4.198  &         0.000        &        0.033    &        0.091     \\\\\n\\textbf{Year}           &       0.1727  &        0.019     &     9.232  &         0.000        &        0.136    &        0.210     \\\\\n\\textbf{Present\\_Price} &       1.1459  &        0.044     &    25.765  &         0.000        &        1.058    &        1.234     \\\\\n\\textbf{Kms\\_Driven}    &      -0.0440  &        0.033     &    -1.345  &         0.181        &       -0.109    &        0.021     \\\\\n\\textbf{Owner}          &      -0.0107  &        0.017     &    -0.615  &         0.539        &       -0.045    &        0.024     \\\\\n\\bottomrule\n\\end{tabular}\n\\begin{tabular}{lclc}\n\\textbf{Omnibus:}       &  7.884 & \\textbf{  Durbin-Watson:     } &    1.694  \\\\\n\\textbf{Prob(Omnibus):} &  0.019 & \\textbf{  Jarque-Bera (JB):  } &    7.649  \\\\\n\\textbf{Skew:}          &  0.482 & \\textbf{  Prob(JB):          } &   0.0218  \\\\\n\\textbf{Kurtosis:}      &  3.504 & \\textbf{  Cond. No.          } &     4.15  \\\\\n\\bottomrule\n\\end{tabular}\n%\\caption{OLS Regression Results}\n\\end{center}\n\nNotes: \\newline\n [1] Standard Errors assume that the covariance matrix of the errors is correctly specified."
          },
          "metadata": {},
          "execution_count": 87
        }
      ]
    },
    {
      "cell_type": "markdown",
      "source": [
        "**FROM ADJUSTED R-squared values MODEL -1 SEEMS TO BETTER THAN MODEL: 2**"
      ],
      "metadata": {
        "id": "Zy3xpQUBK95b"
      }
    }
  ],
  "metadata": {
    "colab": {
      "collapsed_sections": [
        "7izMWCZ8Ly_m",
        "s9XWzgRGx3Z7",
        "x35kACmq8AFE",
        "ari7vVS58Ldj",
        "X4O8CCWH8c1C",
        "eA0i30px-feo"
      ],
      "provenance": []
    },
    "kernelspec": {
      "display_name": "Python 3 (ipykernel)",
      "language": "python",
      "name": "python3"
    },
    "language_info": {
      "codemirror_mode": {
        "name": "ipython",
        "version": 3
      },
      "file_extension": ".py",
      "mimetype": "text/x-python",
      "name": "python",
      "nbconvert_exporter": "python",
      "pygments_lexer": "ipython3",
      "version": "3.9.13"
    }
  },
  "nbformat": 4,
  "nbformat_minor": 0
}